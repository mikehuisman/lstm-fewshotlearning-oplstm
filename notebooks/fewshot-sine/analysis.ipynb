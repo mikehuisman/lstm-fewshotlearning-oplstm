{
 "cells": [
  {
   "cell_type": "code",
   "execution_count": 5,
   "metadata": {},
   "outputs": [],
   "source": [
    "import os\n",
    "import numpy as np\n",
    "import pandas as pd\n",
    "\n",
    "from copy import deepcopy\n",
    "\n",
    "PATH = \"./N1k5test50/\"\n",
    "\n",
    "techniques = [x for x in os.listdir(PATH) if \"simplelstm\" in x]\n",
    "tpaths = [PATH + x for x in techniques]\n",
    "\n",
    "RES = []\n",
    "LOSS = dict()\n",
    "for technique, tdir in zip(techniques, tpaths):\n",
    "    #print(technique)\n",
    "    if technique.count(\"e\") > 1:\n",
    "        avg_cell,hsize,T,loss_type,mbs,nlayers,lr,lrrest = technique.split('-')[1:]\n",
    "        lr = lr + '-' + lrrest\n",
    "    else:\n",
    "        avg_cell,hsize,T,loss_type,mbs,nlayers,lr = technique.split('-')[1:]\n",
    "    \n",
    "    avg_cell = True if avg_cell == \"avg\" else False\n",
    "    hsize = int(hsize); T = int(T); mbs = int(mbs); nlayers = int(nlayers); lr = float(lr)\n",
    "#     print(avg_cell,hsize,T,loss_type,mbs,nlayers,lr)\n",
    "#     print(tdir)\n",
    "    tfile = tdir + \"/-runs/\" \n",
    "    try:\n",
    "        tfile = tfile + [x for x in os.listdir(tfile) if \"alltestperf\" in x][0]\n",
    "    except:\n",
    "        print(f\"No test perf file found for {technique}\")\n",
    "    \n",
    "    data = pd.read_csv(tfile, header=None).to_numpy().reshape(-1)\n",
    "    mean_perf, std_perf = data.mean(), data.std()\n",
    "    \n",
    "    RES.append([avg_cell,hsize,T,loss_type,mbs,nlayers,lr,mean_perf,std_perf])\n",
    "    LOSS[(avg_cell,hsize,T,loss_type,mbs,nlayers,lr)] = deepcopy(data)\n",
    "    \n",
    "    "
   ]
  },
  {
   "cell_type": "code",
   "execution_count": 12,
   "metadata": {},
   "outputs": [
    {
     "data": {
      "text/html": [
       "<div>\n",
       "<style scoped>\n",
       "    .dataframe tbody tr th:only-of-type {\n",
       "        vertical-align: middle;\n",
       "    }\n",
       "\n",
       "    .dataframe tbody tr th {\n",
       "        vertical-align: top;\n",
       "    }\n",
       "\n",
       "    .dataframe thead th {\n",
       "        text-align: right;\n",
       "    }\n",
       "</style>\n",
       "<table border=\"1\" class=\"dataframe\">\n",
       "  <thead>\n",
       "    <tr style=\"text-align: right;\">\n",
       "      <th></th>\n",
       "      <th>avg_cell</th>\n",
       "      <th>hsize</th>\n",
       "      <th>T</th>\n",
       "      <th>loss_type</th>\n",
       "      <th>mbs</th>\n",
       "      <th>nlayers</th>\n",
       "      <th>lr</th>\n",
       "      <th>mean_perf</th>\n",
       "      <th>std_perf</th>\n",
       "    </tr>\n",
       "  </thead>\n",
       "  <tbody>\n",
       "    <tr>\n",
       "      <th>67</th>\n",
       "      <td>False</td>\n",
       "      <td>40</td>\n",
       "      <td>10</td>\n",
       "      <td>post</td>\n",
       "      <td>4</td>\n",
       "      <td>4</td>\n",
       "      <td>0.004321</td>\n",
       "      <td>0.027952</td>\n",
       "      <td>0.075294</td>\n",
       "    </tr>\n",
       "    <tr>\n",
       "      <th>27</th>\n",
       "      <td>True</td>\n",
       "      <td>40</td>\n",
       "      <td>10</td>\n",
       "      <td>post</td>\n",
       "      <td>4</td>\n",
       "      <td>4</td>\n",
       "      <td>0.004321</td>\n",
       "      <td>0.033418</td>\n",
       "      <td>0.089543</td>\n",
       "    </tr>\n",
       "    <tr>\n",
       "      <th>17</th>\n",
       "      <td>True</td>\n",
       "      <td>20</td>\n",
       "      <td>9</td>\n",
       "      <td>post</td>\n",
       "      <td>2</td>\n",
       "      <td>4</td>\n",
       "      <td>0.007002</td>\n",
       "      <td>0.040176</td>\n",
       "      <td>0.378112</td>\n",
       "    </tr>\n",
       "    <tr>\n",
       "      <th>57</th>\n",
       "      <td>False</td>\n",
       "      <td>20</td>\n",
       "      <td>9</td>\n",
       "      <td>post</td>\n",
       "      <td>2</td>\n",
       "      <td>4</td>\n",
       "      <td>0.007002</td>\n",
       "      <td>0.040211</td>\n",
       "      <td>0.097935</td>\n",
       "    </tr>\n",
       "    <tr>\n",
       "      <th>73</th>\n",
       "      <td>False</td>\n",
       "      <td>40</td>\n",
       "      <td>4</td>\n",
       "      <td>post</td>\n",
       "      <td>4</td>\n",
       "      <td>2</td>\n",
       "      <td>0.004674</td>\n",
       "      <td>0.040603</td>\n",
       "      <td>0.091951</td>\n",
       "    </tr>\n",
       "    <tr>\n",
       "      <th>...</th>\n",
       "      <td>...</td>\n",
       "      <td>...</td>\n",
       "      <td>...</td>\n",
       "      <td>...</td>\n",
       "      <td>...</td>\n",
       "      <td>...</td>\n",
       "      <td>...</td>\n",
       "      <td>...</td>\n",
       "      <td>...</td>\n",
       "    </tr>\n",
       "    <tr>\n",
       "      <th>46</th>\n",
       "      <td>False</td>\n",
       "      <td>1</td>\n",
       "      <td>6</td>\n",
       "      <td>multi</td>\n",
       "      <td>3</td>\n",
       "      <td>1</td>\n",
       "      <td>0.002772</td>\n",
       "      <td>4.180302</td>\n",
       "      <td>3.657878</td>\n",
       "    </tr>\n",
       "    <tr>\n",
       "      <th>9</th>\n",
       "      <td>True</td>\n",
       "      <td>1</td>\n",
       "      <td>9</td>\n",
       "      <td>post</td>\n",
       "      <td>3</td>\n",
       "      <td>1</td>\n",
       "      <td>0.000013</td>\n",
       "      <td>4.531891</td>\n",
       "      <td>3.795164</td>\n",
       "    </tr>\n",
       "    <tr>\n",
       "      <th>49</th>\n",
       "      <td>False</td>\n",
       "      <td>1</td>\n",
       "      <td>9</td>\n",
       "      <td>post</td>\n",
       "      <td>3</td>\n",
       "      <td>1</td>\n",
       "      <td>0.000013</td>\n",
       "      <td>4.552914</td>\n",
       "      <td>3.791707</td>\n",
       "    </tr>\n",
       "    <tr>\n",
       "      <th>8</th>\n",
       "      <td>True</td>\n",
       "      <td>1</td>\n",
       "      <td>9</td>\n",
       "      <td>multi</td>\n",
       "      <td>3</td>\n",
       "      <td>1</td>\n",
       "      <td>0.000013</td>\n",
       "      <td>4.611537</td>\n",
       "      <td>3.832153</td>\n",
       "    </tr>\n",
       "    <tr>\n",
       "      <th>48</th>\n",
       "      <td>False</td>\n",
       "      <td>1</td>\n",
       "      <td>9</td>\n",
       "      <td>multi</td>\n",
       "      <td>3</td>\n",
       "      <td>1</td>\n",
       "      <td>0.000013</td>\n",
       "      <td>4.649513</td>\n",
       "      <td>3.835538</td>\n",
       "    </tr>\n",
       "  </tbody>\n",
       "</table>\n",
       "<p>80 rows × 9 columns</p>\n",
       "</div>"
      ],
      "text/plain": [
       "    avg_cell  hsize   T loss_type  mbs  nlayers        lr  mean_perf  std_perf\n",
       "67     False     40  10      post    4        4  0.004321   0.027952  0.075294\n",
       "27      True     40  10      post    4        4  0.004321   0.033418  0.089543\n",
       "17      True     20   9      post    2        4  0.007002   0.040176  0.378112\n",
       "57     False     20   9      post    2        4  0.007002   0.040211  0.097935\n",
       "73     False     40   4      post    4        2  0.004674   0.040603  0.091951\n",
       "..       ...    ...  ..       ...  ...      ...       ...        ...       ...\n",
       "46     False      1   6     multi    3        1  0.002772   4.180302  3.657878\n",
       "9       True      1   9      post    3        1  0.000013   4.531891  3.795164\n",
       "49     False      1   9      post    3        1  0.000013   4.552914  3.791707\n",
       "8       True      1   9     multi    3        1  0.000013   4.611537  3.832153\n",
       "48     False      1   9     multi    3        1  0.000013   4.649513  3.835538\n",
       "\n",
       "[80 rows x 9 columns]"
      ]
     },
     "execution_count": 12,
     "metadata": {},
     "output_type": "execute_result"
    }
   ],
   "source": [
    "df = pd.DataFrame(RES)\n",
    "df.columns = \"avg_cell,hsize,T,loss_type,mbs,nlayers,lr,mean_perf,std_perf\".split(',')\n",
    "df.sort_values(\"mean_perf\")"
   ]
  },
  {
   "cell_type": "code",
   "execution_count": null,
   "metadata": {},
   "outputs": [],
   "source": [
    "python -u main.py --problem sine --model simplelstm --N 1 --k 5 --k_test 50 --runs 3 --val_after 2500 --cpu --hidden_size 40 --T 10 --validate --loss_type post --meta_batch_size 4 --num_layers 4 --lr 0.004321072194838596 --model_spec best-simplelstm"
   ]
  },
  {
   "cell_type": "code",
   "execution_count": null,
   "metadata": {},
   "outputs": [],
   "source": []
  },
  {
   "cell_type": "markdown",
   "metadata": {},
   "source": [
    "# Best: \n",
    "\n",
    "False-40-10-post-4-4-0.004321072194838596"
   ]
  },
  {
   "cell_type": "code",
   "execution_count": null,
   "metadata": {},
   "outputs": [],
   "source": []
  },
  {
   "cell_type": "code",
   "execution_count": 16,
   "metadata": {},
   "outputs": [
    {
     "name": "stdout",
     "output_type": "stream",
     "text": [
      "0.02795232649506453 0.0019057077288892159\n"
     ]
    }
   ],
   "source": [
    "import numpy as np, scipy.stats as st\n",
    "\n",
    "a = LOSS[(False,40,10,\"post\",4,4,0.004321072194838596)] # 6k = 2k (per seed) * 3 runs\n",
    "\n",
    "\n",
    "lb, ub = st.t.interval(0.95, len(a)-1, loc=np.mean(a), scale=st.sem(a))\n",
    "ci = a.mean() - lb\n",
    "print(a.mean(), ci)"
   ]
  },
  {
   "cell_type": "markdown",
   "metadata": {},
   "source": [
    "## Marginals"
   ]
  },
  {
   "cell_type": "code",
   "execution_count": 4,
   "metadata": {},
   "outputs": [
    {
     "data": {
      "image/png": "[encoded data removed]",
      "text/plain": [
       "<Figure size 576x432 with 1 Axes>"
      ]
     },
     "metadata": {
      "needs_background": "light"
     },
     "output_type": "display_data"
    }
   ],
   "source": [
    "## Presence of previous target\n",
    "\n",
    "# with_avg = df[df[\"labelinput\"]==True][\"avg_testperf\"].mean()\n",
    "# without_avg = df[df[\"labelinput\"]!=True][\"avg_testperf\"].mean()\n",
    "# with_std = df[df[\"labelinput\"]==True][\"avg_testperf\"].std()\n",
    "# without_std = df[df[\"labelinput\"]!=True][\"avg_testperf\"].std()\n",
    "# plt.bar(range(2),[without_avg,with_avg], yerr=[without_std, with_std])\n",
    "import matplotlib.pylab as plt\n",
    "import seaborn as sns\n",
    "from matplotlib import rc\n",
    "\n",
    "rc('font', **{'family': 'serif', 'serif': ['Times New Roman']})\n",
    "rc('text', usetex=False)\n",
    "df.boxplot(column=[\"mean_perf\"], by=\"avg_cell\",figsize=(8,6))\n",
    "#plt.xlabel(\"Number of training steps per task\", fontsize=18)\n",
    "plt.ylabel(\"Average test MSE\",fontsize=24)\n",
    "plt.title(\"\")\n",
    "plt.suptitle(\"\")\n",
    "plt.xlabel(\"\")\n",
    "plt.yticks(fontsize=22)\n",
    "plt.xticks(fontsize=24)\n",
    "plt.savefig(\"avgcellstate.pdf\")\n",
    "#plt.yscale('log')\n"
   ]
  },
  {
   "cell_type": "code",
   "execution_count": 26,
   "metadata": {},
   "outputs": [
    {
     "name": "stderr",
     "output_type": "stream",
     "text": [
      "c:\\users\\intel\\appdata\\local\\programs\\python\\python37\\lib\\site-packages\\matplotlib\\cbook\\__init__.py:1449: VisibleDeprecationWarning: Creating an ndarray from ragged nested sequences (which is a list-or-tuple of lists-or-tuples-or ndarrays with different lengths or shapes) is deprecated. If you meant to do this, you must specify 'dtype=object' when creating the ndarray.\n",
      "  X = np.atleast_1d(X.T if isinstance(X, np.ndarray) else np.asarray(X))\n"
     ]
    },
    {
     "data": {
      "text/plain": [
       "(array([1, 2, 3, 4, 5]), <a list of 5 Text xticklabel objects>)"
      ]
     },
     "execution_count": 26,
     "metadata": {},
     "output_type": "execute_result"
    },
    {
     "data": {
      "image/png": "[encoded data removed]",
      "text/plain": [
       "<Figure size 576x432 with 1 Axes>"
      ]
     },
     "metadata": {
      "needs_background": "light"
     },
     "output_type": "display_data"
    }
   ],
   "source": [
    "df.boxplot(column=[\"mean_perf\"], by=\"hsize\",figsize=(8,6))\n",
    "#plt.xlabel(\"Number of training steps per task\", fontsize=18)\n",
    "plt.ylabel(\"Average test MSE\",fontsize=24)\n",
    "plt.title(\"\")\n",
    "plt.suptitle(\"\")\n",
    "plt.xlabel(\"\")\n",
    "plt.yticks(fontsize=22)\n",
    "plt.xticks(fontsize=24)"
   ]
  },
  {
   "cell_type": "code",
   "execution_count": 27,
   "metadata": {},
   "outputs": [
    {
     "name": "stderr",
     "output_type": "stream",
     "text": [
      "c:\\users\\intel\\appdata\\local\\programs\\python\\python37\\lib\\site-packages\\matplotlib\\cbook\\__init__.py:1449: VisibleDeprecationWarning: Creating an ndarray from ragged nested sequences (which is a list-or-tuple of lists-or-tuples-or ndarrays with different lengths or shapes) is deprecated. If you meant to do this, you must specify 'dtype=object' when creating the ndarray.\n",
      "  X = np.atleast_1d(X.T if isinstance(X, np.ndarray) else np.asarray(X))\n"
     ]
    },
    {
     "data": {
      "text/plain": [
       "(array([ 1,  2,  3,  4,  5,  6,  7,  8,  9, 10]),\n",
       " <a list of 10 Text xticklabel objects>)"
      ]
     },
     "execution_count": 27,
     "metadata": {},
     "output_type": "execute_result"
    },
    {
     "data": {
      "image/png": "[encoded data removed]",
      "text/plain": [
       "<Figure size 576x432 with 1 Axes>"
      ]
     },
     "metadata": {
      "needs_background": "light"
     },
     "output_type": "display_data"
    }
   ],
   "source": [
    "df.boxplot(column=[\"mean_perf\"], by=\"T\",figsize=(8,6))\n",
    "#plt.xlabel(\"Number of training steps per task\", fontsize=18)\n",
    "plt.ylabel(\"Average test MSE\",fontsize=24)\n",
    "plt.title(\"\")\n",
    "plt.suptitle(\"\")\n",
    "plt.xlabel(\"\")\n",
    "plt.yticks(fontsize=22)\n",
    "plt.xticks(fontsize=24)"
   ]
  },
  {
   "cell_type": "code",
   "execution_count": 28,
   "metadata": {},
   "outputs": [
    {
     "data": {
      "text/plain": [
       "(array([1, 2]), <a list of 2 Text xticklabel objects>)"
      ]
     },
     "execution_count": 28,
     "metadata": {},
     "output_type": "execute_result"
    },
    {
     "data": {
      "image/png": "[encoded data removed]",
      "text/plain": [
       "<Figure size 576x432 with 1 Axes>"
      ]
     },
     "metadata": {
      "needs_background": "light"
     },
     "output_type": "display_data"
    }
   ],
   "source": [
    "df.boxplot(column=[\"mean_perf\"], by=\"loss_type\",figsize=(8,6))\n",
    "#plt.xlabel(\"Number of training steps per task\", fontsize=18)\n",
    "plt.ylabel(\"Average test MSE\",fontsize=24)\n",
    "plt.title(\"\")\n",
    "plt.suptitle(\"\")\n",
    "plt.xlabel(\"\")\n",
    "plt.yticks(fontsize=22)\n",
    "plt.xticks(fontsize=24)"
   ]
  },
  {
   "cell_type": "code",
   "execution_count": 32,
   "metadata": {},
   "outputs": [
    {
     "name": "stderr",
     "output_type": "stream",
     "text": [
      "c:\\users\\intel\\appdata\\local\\programs\\python\\python37\\lib\\site-packages\\matplotlib\\cbook\\__init__.py:1449: VisibleDeprecationWarning: Creating an ndarray from ragged nested sequences (which is a list-or-tuple of lists-or-tuples-or ndarrays with different lengths or shapes) is deprecated. If you meant to do this, you must specify 'dtype=object' when creating the ndarray.\n",
      "  X = np.atleast_1d(X.T if isinstance(X, np.ndarray) else np.asarray(X))\n"
     ]
    },
    {
     "data": {
      "text/plain": [
       "(array([1, 2, 3, 4]), <a list of 4 Text xticklabel objects>)"
      ]
     },
     "execution_count": 32,
     "metadata": {},
     "output_type": "execute_result"
    },
    {
     "data": {
      "image/png": "[encoded data removed]",
      "text/plain": [
       "<Figure size 576x432 with 1 Axes>"
      ]
     },
     "metadata": {
      "needs_background": "light"
     },
     "output_type": "display_data"
    }
   ],
   "source": [
    "df.boxplot([\"mean_perf\"], by=\"mbs\",figsize=(8,6))\n",
    "#plt.xlabel(\"Number of training steps per task\", fontsize=18)\n",
    "plt.ylabel(\"Average test MSE\",fontsize=24)\n",
    "plt.title(\"\")\n",
    "plt.suptitle(\"\")\n",
    "plt.xlabel(\"\")\n",
    "plt.yticks(fontsize=22)\n",
    "plt.xticks(fontsize=24)"
   ]
  },
  {
   "cell_type": "code",
   "execution_count": 37,
   "metadata": {},
   "outputs": [
    {
     "data": {
      "text/plain": [
       "(array([-0.01 , -0.005,  0.   ,  0.005,  0.01 ,  0.015,  0.02 ,  0.025,\n",
       "         0.03 ,  0.035,  0.04 ]),\n",
       " <a list of 11 Text xticklabel objects>)"
      ]
     },
     "execution_count": 37,
     "metadata": {},
     "output_type": "execute_result"
    },
    {
     "data": {
      "image/png": "[encoded data removed]",
      "text/plain": [
       "<Figure size 576x432 with 1 Axes>"
      ]
     },
     "metadata": {
      "needs_background": "light"
     },
     "output_type": "display_data"
    }
   ],
   "source": [
    "df.plot.scatter(\"lr\",\"mean_perf\",figsize=(8,6))\n",
    "#plt.xlabel(\"Number of training steps per task\", fontsize=18)\n",
    "plt.ylabel(\"Average test MSE\",fontsize=24)\n",
    "plt.title(\"\")\n",
    "plt.suptitle(\"\")\n",
    "plt.xlabel(\"\")\n",
    "plt.yticks(fontsize=22)\n",
    "plt.xticks(fontsize=24)"
   ]
  },
  {
   "cell_type": "code",
   "execution_count": null,
   "metadata": {},
   "outputs": [],
   "source": []
  },
  {
   "cell_type": "code",
   "execution_count": null,
   "metadata": {},
   "outputs": [],
   "source": []
  },
  {
   "cell_type": "code",
   "execution_count": null,
   "metadata": {},
   "outputs": [],
   "source": []
  },
  {
   "cell_type": "markdown",
   "metadata": {},
   "source": [
    "# MAML"
   ]
  },
  {
   "cell_type": "code",
   "execution_count": 1,
   "metadata": {},
   "outputs": [
    {
     "name": "stdout",
     "output_type": "stream",
     "text": [
      "No test perf file found for somaml-11-3-0.00016098550271858659-0.0806914330824089\n",
      "No test perf file found for somaml-12-3-0.007186485241628563-0.001075834756143196\n",
      "No test perf file found for somaml-2-3-0.0015687342586992938-0.3411927201467858\n",
      "No test perf file found for somaml-2-3-2.8294961999071007e-05-0.028892735184616436\n",
      "No test perf file found for somaml-3-3-0.00776573116016386-0.04319144896480553\n",
      "No test perf file found for somaml-5-3-0.028084413382556312-0.13091164928357987\n",
      "No test perf file found for somaml-6-3-0.00018097932615180606-0.00331211275384862\n",
      "No test perf file found for somaml-6-3-0.004440384965418705-0.001089963730201143\n",
      "No test perf file found for somaml-7-3-6.95530587573294e-05-0.023032915758808364\n",
      "No test perf file found for somaml-8-3-0.0010353826083192381-0.020562808071236855\n",
      "No test perf file found for somaml-9-3-1.3254610570097222e-05-0.02233002546142602\n"
     ]
    }
   ],
   "source": [
    "import os\n",
    "import numpy as np\n",
    "import pandas as pd\n",
    "\n",
    "from copy import deepcopy\n",
    "\n",
    "PATH = \"./N1k5test50/\"\n",
    "\n",
    "techniques = [x for x in os.listdir(PATH) if \"somaml\" in x and not \"tanh\" in x]\n",
    "tpaths = [PATH + x for x in techniques]\n",
    "\n",
    "RES = []\n",
    "LOSS = dict()\n",
    "for technique, tdir in zip(techniques, tpaths):\n",
    "    #print(technique)\n",
    "    if technique.count('e') >= 1:\n",
    "        T,mbs,lr,rest,baselr = technique.split('-')[1:]\n",
    "        lr = lr + '-' + rest\n",
    "    else:\n",
    "        T,mbs,lr,baselr = technique.split('-')[1:]\n",
    "    \n",
    "    T = int(T); mbs = int(mbs); lr = float(lr); baselr = float(baselr)\n",
    "\n",
    "    tfile = tdir + \"/-runs/\" \n",
    "    try:\n",
    "        tfile = tfile + [x for x in os.listdir(tfile) if \"alltestperf\" in x][0]\n",
    "    except:\n",
    "        print(f\"No test perf file found for {technique}\")\n",
    "        continue\n",
    "    \n",
    "    data = pd.read_csv(tfile, header=None).to_numpy().reshape(-1)\n",
    "    mean_perf, std_perf = data.mean(), data.std()\n",
    "    \n",
    "    RES.append([T,mbs,lr,baselr,mean_perf,std_perf])\n",
    "    LOSS[(T,mbs,lr,baselr)] = deepcopy(data)\n",
    "    \n",
    "    "
   ]
  },
  {
   "cell_type": "code",
   "execution_count": 2,
   "metadata": {},
   "outputs": [
    {
     "data": {
      "text/html": [
       "<div>\n",
       "<style scoped>\n",
       "    .dataframe tbody tr th:only-of-type {\n",
       "        vertical-align: middle;\n",
       "    }\n",
       "\n",
       "    .dataframe tbody tr th {\n",
       "        vertical-align: top;\n",
       "    }\n",
       "\n",
       "    .dataframe thead th {\n",
       "        text-align: right;\n",
       "    }\n",
       "</style>\n",
       "<table border=\"1\" class=\"dataframe\">\n",
       "  <thead>\n",
       "    <tr style=\"text-align: right;\">\n",
       "      <th></th>\n",
       "      <th>T</th>\n",
       "      <th>mbs</th>\n",
       "      <th>lr</th>\n",
       "      <th>baselr</th>\n",
       "      <th>mean_perf</th>\n",
       "      <th>std_perf</th>\n",
       "    </tr>\n",
       "  </thead>\n",
       "  <tbody>\n",
       "    <tr>\n",
       "      <th>9</th>\n",
       "      <td>14</td>\n",
       "      <td>2</td>\n",
       "      <td>0.003294</td>\n",
       "      <td>0.003769</td>\n",
       "      <td>0.256199</td>\n",
       "      <td>0.469722</td>\n",
       "    </tr>\n",
       "    <tr>\n",
       "      <th>7</th>\n",
       "      <td>13</td>\n",
       "      <td>2</td>\n",
       "      <td>0.001623</td>\n",
       "      <td>0.009072</td>\n",
       "      <td>0.293768</td>\n",
       "      <td>0.517471</td>\n",
       "    </tr>\n",
       "    <tr>\n",
       "      <th>4</th>\n",
       "      <td>11</td>\n",
       "      <td>2</td>\n",
       "      <td>0.001876</td>\n",
       "      <td>0.001018</td>\n",
       "      <td>0.298807</td>\n",
       "      <td>0.513262</td>\n",
       "    </tr>\n",
       "    <tr>\n",
       "      <th>28</th>\n",
       "      <td>9</td>\n",
       "      <td>2</td>\n",
       "      <td>0.007002</td>\n",
       "      <td>0.008710</td>\n",
       "      <td>0.304012</td>\n",
       "      <td>0.527417</td>\n",
       "    </tr>\n",
       "    <tr>\n",
       "      <th>26</th>\n",
       "      <td>9</td>\n",
       "      <td>1</td>\n",
       "      <td>0.001045</td>\n",
       "      <td>0.005293</td>\n",
       "      <td>0.311093</td>\n",
       "      <td>0.516396</td>\n",
       "    </tr>\n",
       "    <tr>\n",
       "      <th>8</th>\n",
       "      <td>13</td>\n",
       "      <td>4</td>\n",
       "      <td>0.003697</td>\n",
       "      <td>0.017785</td>\n",
       "      <td>0.321718</td>\n",
       "      <td>0.547026</td>\n",
       "    </tr>\n",
       "    <tr>\n",
       "      <th>22</th>\n",
       "      <td>5</td>\n",
       "      <td>2</td>\n",
       "      <td>0.000996</td>\n",
       "      <td>0.006982</td>\n",
       "      <td>0.390220</td>\n",
       "      <td>0.629210</td>\n",
       "    </tr>\n",
       "    <tr>\n",
       "      <th>18</th>\n",
       "      <td>4</td>\n",
       "      <td>4</td>\n",
       "      <td>0.004674</td>\n",
       "      <td>0.014233</td>\n",
       "      <td>0.412974</td>\n",
       "      <td>0.633795</td>\n",
       "    </tr>\n",
       "    <tr>\n",
       "      <th>17</th>\n",
       "      <td>4</td>\n",
       "      <td>2</td>\n",
       "      <td>0.000830</td>\n",
       "      <td>0.004888</td>\n",
       "      <td>0.420344</td>\n",
       "      <td>0.630329</td>\n",
       "    </tr>\n",
       "    <tr>\n",
       "      <th>19</th>\n",
       "      <td>4</td>\n",
       "      <td>4</td>\n",
       "      <td>0.010261</td>\n",
       "      <td>0.004895</td>\n",
       "      <td>0.441371</td>\n",
       "      <td>0.645455</td>\n",
       "    </tr>\n",
       "    <tr>\n",
       "      <th>14</th>\n",
       "      <td>3</td>\n",
       "      <td>1</td>\n",
       "      <td>0.004039</td>\n",
       "      <td>0.014731</td>\n",
       "      <td>0.479722</td>\n",
       "      <td>0.707031</td>\n",
       "    </tr>\n",
       "    <tr>\n",
       "      <th>5</th>\n",
       "      <td>11</td>\n",
       "      <td>2</td>\n",
       "      <td>0.015435</td>\n",
       "      <td>0.019224</td>\n",
       "      <td>0.610525</td>\n",
       "      <td>0.869258</td>\n",
       "    </tr>\n",
       "    <tr>\n",
       "      <th>25</th>\n",
       "      <td>7</td>\n",
       "      <td>1</td>\n",
       "      <td>0.000823</td>\n",
       "      <td>0.040935</td>\n",
       "      <td>0.701574</td>\n",
       "      <td>1.148298</td>\n",
       "    </tr>\n",
       "    <tr>\n",
       "      <th>10</th>\n",
       "      <td>14</td>\n",
       "      <td>4</td>\n",
       "      <td>0.012632</td>\n",
       "      <td>0.022406</td>\n",
       "      <td>0.725222</td>\n",
       "      <td>0.903947</td>\n",
       "    </tr>\n",
       "    <tr>\n",
       "      <th>27</th>\n",
       "      <td>9</td>\n",
       "      <td>2</td>\n",
       "      <td>0.000109</td>\n",
       "      <td>0.011321</td>\n",
       "      <td>0.861453</td>\n",
       "      <td>0.986494</td>\n",
       "    </tr>\n",
       "    <tr>\n",
       "      <th>23</th>\n",
       "      <td>5</td>\n",
       "      <td>2</td>\n",
       "      <td>0.003005</td>\n",
       "      <td>0.055851</td>\n",
       "      <td>0.924494</td>\n",
       "      <td>1.406734</td>\n",
       "    </tr>\n",
       "    <tr>\n",
       "      <th>11</th>\n",
       "      <td>2</td>\n",
       "      <td>1</td>\n",
       "      <td>0.003393</td>\n",
       "      <td>0.058159</td>\n",
       "      <td>0.952778</td>\n",
       "      <td>1.274293</td>\n",
       "    </tr>\n",
       "    <tr>\n",
       "      <th>16</th>\n",
       "      <td>4</td>\n",
       "      <td>1</td>\n",
       "      <td>0.019769</td>\n",
       "      <td>0.016983</td>\n",
       "      <td>1.068866</td>\n",
       "      <td>1.163584</td>\n",
       "    </tr>\n",
       "    <tr>\n",
       "      <th>24</th>\n",
       "      <td>6</td>\n",
       "      <td>4</td>\n",
       "      <td>0.037691</td>\n",
       "      <td>0.062467</td>\n",
       "      <td>2.155275</td>\n",
       "      <td>2.220888</td>\n",
       "    </tr>\n",
       "    <tr>\n",
       "      <th>0</th>\n",
       "      <td>10</td>\n",
       "      <td>1</td>\n",
       "      <td>0.037839</td>\n",
       "      <td>0.015524</td>\n",
       "      <td>2.397100</td>\n",
       "      <td>2.282966</td>\n",
       "    </tr>\n",
       "    <tr>\n",
       "      <th>20</th>\n",
       "      <td>5</td>\n",
       "      <td>1</td>\n",
       "      <td>0.000236</td>\n",
       "      <td>0.095063</td>\n",
       "      <td>2.471602</td>\n",
       "      <td>3.219094</td>\n",
       "    </tr>\n",
       "    <tr>\n",
       "      <th>12</th>\n",
       "      <td>2</td>\n",
       "      <td>1</td>\n",
       "      <td>0.011342</td>\n",
       "      <td>0.113214</td>\n",
       "      <td>2.885471</td>\n",
       "      <td>3.120889</td>\n",
       "    </tr>\n",
       "    <tr>\n",
       "      <th>1</th>\n",
       "      <td>10</td>\n",
       "      <td>4</td>\n",
       "      <td>0.000690</td>\n",
       "      <td>0.151259</td>\n",
       "      <td>3.228864</td>\n",
       "      <td>3.737503</td>\n",
       "    </tr>\n",
       "    <tr>\n",
       "      <th>21</th>\n",
       "      <td>5</td>\n",
       "      <td>1</td>\n",
       "      <td>0.005778</td>\n",
       "      <td>0.234852</td>\n",
       "      <td>3.255827</td>\n",
       "      <td>4.350255</td>\n",
       "    </tr>\n",
       "    <tr>\n",
       "      <th>3</th>\n",
       "      <td>11</td>\n",
       "      <td>2</td>\n",
       "      <td>0.000109</td>\n",
       "      <td>0.076018</td>\n",
       "      <td>3.457817</td>\n",
       "      <td>4.258710</td>\n",
       "    </tr>\n",
       "    <tr>\n",
       "      <th>13</th>\n",
       "      <td>2</td>\n",
       "      <td>1</td>\n",
       "      <td>0.000022</td>\n",
       "      <td>0.077301</td>\n",
       "      <td>4.319676</td>\n",
       "      <td>5.057476</td>\n",
       "    </tr>\n",
       "    <tr>\n",
       "      <th>15</th>\n",
       "      <td>3</td>\n",
       "      <td>1</td>\n",
       "      <td>0.000044</td>\n",
       "      <td>0.136195</td>\n",
       "      <td>5.002443</td>\n",
       "      <td>6.296704</td>\n",
       "    </tr>\n",
       "    <tr>\n",
       "      <th>2</th>\n",
       "      <td>11</td>\n",
       "      <td>1</td>\n",
       "      <td>0.000483</td>\n",
       "      <td>0.337257</td>\n",
       "      <td>6.691139</td>\n",
       "      <td>103.436430</td>\n",
       "    </tr>\n",
       "    <tr>\n",
       "      <th>6</th>\n",
       "      <td>12</td>\n",
       "      <td>2</td>\n",
       "      <td>0.000353</td>\n",
       "      <td>0.378755</td>\n",
       "      <td>125.012661</td>\n",
       "      <td>8003.532037</td>\n",
       "    </tr>\n",
       "  </tbody>\n",
       "</table>\n",
       "</div>"
      ],
      "text/plain": [
       "     T  mbs        lr    baselr   mean_perf     std_perf\n",
       "9   14    2  0.003294  0.003769    0.256199     0.469722\n",
       "7   13    2  0.001623  0.009072    0.293768     0.517471\n",
       "4   11    2  0.001876  0.001018    0.298807     0.513262\n",
       "28   9    2  0.007002  0.008710    0.304012     0.527417\n",
       "26   9    1  0.001045  0.005293    0.311093     0.516396\n",
       "8   13    4  0.003697  0.017785    0.321718     0.547026\n",
       "22   5    2  0.000996  0.006982    0.390220     0.629210\n",
       "18   4    4  0.004674  0.014233    0.412974     0.633795\n",
       "17   4    2  0.000830  0.004888    0.420344     0.630329\n",
       "19   4    4  0.010261  0.004895    0.441371     0.645455\n",
       "14   3    1  0.004039  0.014731    0.479722     0.707031\n",
       "5   11    2  0.015435  0.019224    0.610525     0.869258\n",
       "25   7    1  0.000823  0.040935    0.701574     1.148298\n",
       "10  14    4  0.012632  0.022406    0.725222     0.903947\n",
       "27   9    2  0.000109  0.011321    0.861453     0.986494\n",
       "23   5    2  0.003005  0.055851    0.924494     1.406734\n",
       "11   2    1  0.003393  0.058159    0.952778     1.274293\n",
       "16   4    1  0.019769  0.016983    1.068866     1.163584\n",
       "24   6    4  0.037691  0.062467    2.155275     2.220888\n",
       "0   10    1  0.037839  0.015524    2.397100     2.282966\n",
       "20   5    1  0.000236  0.095063    2.471602     3.219094\n",
       "12   2    1  0.011342  0.113214    2.885471     3.120889\n",
       "1   10    4  0.000690  0.151259    3.228864     3.737503\n",
       "21   5    1  0.005778  0.234852    3.255827     4.350255\n",
       "3   11    2  0.000109  0.076018    3.457817     4.258710\n",
       "13   2    1  0.000022  0.077301    4.319676     5.057476\n",
       "15   3    1  0.000044  0.136195    5.002443     6.296704\n",
       "2   11    1  0.000483  0.337257    6.691139   103.436430\n",
       "6   12    2  0.000353  0.378755  125.012661  8003.532037"
      ]
     },
     "execution_count": 2,
     "metadata": {},
     "output_type": "execute_result"
    }
   ],
   "source": [
    "df = pd.DataFrame(RES)\n",
    "df.columns = \"T,mbs,lr,baselr,mean_perf,std_perf\".split(',')\n",
    "df.sort_values(\"mean_perf\")"
   ]
  },
  {
   "cell_type": "code",
   "execution_count": 11,
   "metadata": {},
   "outputs": [
    {
     "data": {
      "text/plain": [
       "0.0032937018686863585"
      ]
     },
     "execution_count": 11,
     "metadata": {},
     "output_type": "execute_result"
    }
   ],
   "source": [
    "df.iloc[9][\"lr\"]"
   ]
  },
  {
   "cell_type": "markdown",
   "metadata": {},
   "source": [
    "## Best"
   ]
  },
  {
   "cell_type": "code",
   "execution_count": 12,
   "metadata": {},
   "outputs": [
    {
     "name": "stdout",
     "output_type": "stream",
     "text": [
      "0.29457739236714164 0.010658910724164361\n"
     ]
    }
   ],
   "source": [
    "import os\n",
    "import numpy as np\n",
    "import pandas as pd\n",
    "import scipy.stats as st\n",
    "\n",
    "from copy import deepcopy\n",
    "\n",
    "PATH = \"./N1k5test50/\"\n",
    "\n",
    "techniques = [x for x in os.listdir(PATH) if \"somaml\" in x and \"tanh\" in x]\n",
    "tpaths = [PATH + x for x in techniques]\n",
    "\n",
    "RES = []\n",
    "LOSS = dict()\n",
    "for technique, tdir in zip(techniques, tpaths):\n",
    "    tfile = tdir + \"/-runs/\" \n",
    "    try:\n",
    "        tfile = tfile + [x for x in os.listdir(tfile) if \"alltestperf\" in x][0]\n",
    "    except:\n",
    "        print(f\"No test perf file found for {technique}\")\n",
    "        continue\n",
    "    \n",
    "    a = data = pd.read_csv(tfile, header=None).to_numpy().reshape(-1)\n",
    "    mean_perf, std_perf = data.mean(), data.std()\n",
    "    \n",
    "    lb, ub = st.t.interval(0.95, len(a)-1, loc=np.mean(a), scale=st.sem(a))\n",
    "    ci = a.mean() - lb\n",
    "    print(a.mean(), ci)\n",
    "    \n",
    "    "
   ]
  },
  {
   "cell_type": "code",
   "execution_count": null,
   "metadata": {},
   "outputs": [],
   "source": [
    "python -u main.py --problem sine --model maml --second_order --N 1 --k 5 --k_test 50 --runs 3 --val_after 2500 --cpu --T 14 --validate --meta_batch_size 2 --lr 0.0032937018686863585 --base_lr 0.003769030557807799 --model_spec somaml-best-tanh --use_tanh"
   ]
  },
  {
   "cell_type": "markdown",
   "metadata": {},
   "source": [
    "## MAML TANH"
   ]
  },
  {
   "cell_type": "code",
   "execution_count": null,
   "metadata": {},
   "outputs": [],
   "source": [
    "tfile = tdir + \"/-runs/\" \n",
    "try:\n",
    "    tfile = tfile + [x for x in os.listdir(tfile) if \"alltestperf\" in x][0]\n",
    "except:\n",
    "    print(f\"No test perf file found for {technique}\")\n",
    "    continue\n",
    "\n",
    "data = pd.read_csv(tfile, header=None).to_numpy().reshape(-1)\n",
    "mean_perf, std_perf = data.mean(), data.std()"
   ]
  },
  {
   "cell_type": "code",
   "execution_count": null,
   "metadata": {},
   "outputs": [],
   "source": []
  },
  {
   "cell_type": "code",
   "execution_count": null,
   "metadata": {},
   "outputs": [],
   "source": []
  },
  {
   "cell_type": "code",
   "execution_count": null,
   "metadata": {},
   "outputs": [],
   "source": []
  },
  {
   "cell_type": "code",
   "execution_count": 3,
   "metadata": {},
   "outputs": [
    {
     "data": {
      "text/plain": [
       "(0.2360679774997898, -4.23606797749979)"
      ]
     },
     "execution_count": 3,
     "metadata": {},
     "output_type": "execute_result"
    }
   ],
   "source": [
    "def quadratic_solve(num_layers, num_params):\n",
    "    a = num_layers-1\n",
    "    b = num_layers+2\n",
    "    c = -num_layers+1\n",
    "\n",
    "    sol1 = (-b + (b**2 - 4*a*c)**0.5)/2*a\n",
    "    sol2 = (-b - (b**2 - 4*a*c)**0.5)/2*a\n",
    "    return sol1, sol2\n",
    "\n",
    "quadratic_solve(2, 46441)"
   ]
  },
  {
   "cell_type": "code",
   "execution_count": 5,
   "metadata": {},
   "outputs": [
    {
     "name": "stdout",
     "output_type": "stream",
     "text": [
      "Num layers: 1 hidden size: 6733 with MSE: 1\n",
      "Num layers: 2 hidden size: 140 with MSE: 1600\n",
      "Num layers: 3 hidden size: 99 with MSE: 10609\n",
      "Num layers: 4 hidden size: 81 with MSE: 961\n",
      "Num layers: 5 hidden size: 70 with MSE: 12100\n",
      "Num layers: 6 hidden size: 63 with MSE: 22201\n"
     ]
    }
   ],
   "source": [
    "for n_layers in [1,2,3,4,5,6]:\n",
    "    best_fit = float(\"inf\")\n",
    "    best_h = None\n",
    "    for h in range(1, 20201):\n",
    "        num_params = h*(n_layers+2) + h**2 * (n_layers-1) + 1\n",
    "        mse = (num_params - 20201)**2\n",
    "        if mse < best_fit:\n",
    "            best_fit = mse\n",
    "            best_h = h\n",
    "    print(\"Num layers:\", n_layers, \"hidden size:\", best_h, \"with MSE:\", best_fit)"
   ]
  },
  {
   "cell_type": "code",
   "execution_count": 6,
   "metadata": {},
   "outputs": [
    {
     "data": {
      "text/plain": [
       "[[140, 140],\n",
       " [99, 99, 99],\n",
       " [81, 81, 81, 81],\n",
       " [70, 70, 70, 70, 70],\n",
       " [63, 63, 63, 63, 63, 63]]"
      ]
     },
     "execution_count": 6,
     "metadata": {},
     "output_type": "execute_result"
    }
   ],
   "source": [
    "lses = [[140]*2,\n",
    "        [99]*3,\n",
    "        [81]*4,\n",
    "        [70]*5,\n",
    "        [63]*6,\n",
    "       ]\n",
    "lses"
   ]
  },
  {
   "cell_type": "markdown",
   "metadata": {},
   "source": [
    "### MAML with same Number of Parameters"
   ]
  },
  {
   "cell_type": "markdown",
   "metadata": {},
   "source": [
    "python -u main.py --problem sine --model maml --second_order --N 1 --k 5 --k_test 50 --runs 3 --val_after 2500 --cpu --T 14 --validate --meta_batch_size 2 --lr 0.0032937018686863585 --base_lr 0.003769030557807799 --model_spec somaml-best-hsize214 --hdims [214,214]\n",
    "\n",
    "\n",
    "python -u main.py --problem sine --model maml --second_order --N 1 --k 5 --k_test 50 --runs 3 --val_after 2500 --cpu --T 14 --validate --meta_batch_size 2 --lr 0.0032937018686863585 --base_lr 0.003769030557807799 --model_spec somaml-best-hsize150 --hdims [150,150,150]\n",
    "\n",
    "\n",
    "python -u main.py --problem sine --model maml --second_order --N 1 --k 5 --k_test 50 --runs 3 --val_after 2500 --cpu --T 14 --validate --meta_batch_size 2 --lr 0.0032937018686863585 --base_lr 0.003769030557807799 --model_spec somaml-best-hsize123 --hdims [123,123,123,123]\n",
    "\n",
    "\n",
    "python -u main.py --problem sine --model maml --second_order --N 1 --k 5 --k_test 50 --runs 3 --val_after 2500 --cpu --T 14 --validate --meta_batch_size 2 --lr 0.0032937018686863585 --base_lr 0.003769030557807799 --model_spec somaml-best-hsize105 --hdims [105,105,105,105,105]\n",
    "\n",
    "\n",
    "python -u main.py --problem sine --model maml --second_order --N 1 --k 5 --k_test 50 --runs 3 --val_after 2500 --cpu --T 14 --validate --meta_batch_size 2 --lr 0.0032937018686863585 --base_lr 0.003769030557807799 --model_spec somaml-best-hsize96 --hdims [96,96,96,96,96,96]\n",
    "\n",
    "\n",
    "\n",
    "**20K params**\n",
    "\n",
    "python -u main.py --problem sine --model maml --second_order --N 1 --k 5 --k_test 50 --runs 3 --val_after 2500 --cpu --T 14 --validate --meta_batch_size 2 --lr 0.0032937018686863585 --base_lr 0.003769030557807799 --model_spec somaml-best-hsize140 --hdims [140,140]\n",
    "\n",
    "python -u main.py --problem sine --model maml --second_order --N 1 --k 5 --k_test 50 --runs 3 --val_after 2500 --cpu --T 14 --validate --meta_batch_size 2 --lr 0.0032937018686863585 --base_lr 0.003769030557807799 --model_spec somaml-best-hsize91 --hdims [91,91,91]\n",
    "\n",
    "python -u main.py --problem sine --model maml --second_order --N 1 --k 5 --k_test 50 --runs 3 --val_after 2500 --cpu --T 14 --validate --meta_batch_size 2 --lr 0.0032937018686863585 --base_lr 0.003769030557807799 --model_spec somaml-best-hsize81 --hdims [81,81,81,81]\n",
    "\n",
    "python -u main.py --problem sine --model maml --second_order --N 1 --k 5 --k_test 50 --runs 3 --val_after 2500 --cpu --T 14 --validate --meta_batch_size 2 --lr 0.0032937018686863585 --base_lr 0.003769030557807799 --model_spec somaml-best-hsize70 --hdims [70,70,70,70,70]\n",
    "\n",
    "python -u main.py --problem sine --model maml --second_order --N 1 --k 5 --k_test 50 --runs 3 --val_after 2500 --cpu --T 14 --validate --meta_batch_size 2 --lr 0.0032937018686863585 --base_lr 0.003769030557807799 --model_spec somaml-best-hsize63 --hdims [63,63,63,63,63,63]\n",
    "\n",
    "\n",
    "\n"
   ]
  },
  {
   "cell_type": "code",
   "execution_count": 1,
   "metadata": {},
   "outputs": [
    {
     "name": "stdout",
     "output_type": "stream",
     "text": [
      "somaml-best-hsize105 0.3222072458587354 0.01581404623056909\n",
      "somaml-best-hsize123 0.22017914895606616 0.012917800951364328\n",
      "somaml-best-hsize140 0.26500790307375915 0.011886344223693446\n",
      "somaml-best-hsize150 0.21473363356132177 0.013188122191938045\n",
      "somaml-best-hsize152 0.2078820675952593 0.012934869789312103\n",
      "somaml-best-hsize214 0.2586650345682671 0.012645648666058495\n",
      "somaml-best-hsize63 0.2857196125561216 0.013633857654410442\n",
      "somaml-best-hsize70 0.2773164764494092 0.01506314820056276\n",
      "somaml-best-hsize81 0.21596607483923436 0.01216017958030427\n",
      "somaml-best-hsize91 0.17653166841748558 0.009424709234501755\n",
      "somaml-best-hsize96 0.3016229424799676 0.01582440797562029\n"
     ]
    }
   ],
   "source": [
    "import os\n",
    "import numpy as np\n",
    "import pandas as pd\n",
    "import scipy.stats as st\n",
    "\n",
    "from copy import deepcopy\n",
    "\n",
    "PATH = \"./N1k5test50/\"\n",
    "\n",
    "techniques = [x for x in os.listdir(PATH) if \"somaml-best-hsize\" in x and not \"tanh\" in x]\n",
    "tpaths = [PATH + x for x in techniques]\n",
    "\n",
    "RES = []\n",
    "LOSS = dict()\n",
    "for technique, tdir in zip(techniques, tpaths):\n",
    "    tfile = tdir + \"/-runs/\" \n",
    "    try:\n",
    "        tfile = tfile + [x for x in os.listdir(tfile) if \"alltestperf\" in x][0]\n",
    "    except:\n",
    "        print(f\"No test perf file found for {technique}\")\n",
    "        continue\n",
    "    \n",
    "    data = pd.read_csv(tfile, header=None).to_numpy().reshape(-1)\n",
    "    mean_perf, std_perf = data.mean(), data.std()\n",
    "    a = data\n",
    "    lb, ub = st.t.interval(0.95, len(a)-1, loc=np.mean(a), scale=st.sem(a))\n",
    "    ci = a.mean() - lb\n",
    "\n",
    "    print(technique, mean_perf, ci)\n",
    "    "
   ]
  },
  {
   "cell_type": "markdown",
   "metadata": {},
   "source": [
    "**best with 20k:** 0.17653166841748558\n",
    "\n",
    "python -u main.py --problem sine --model maml --second_order --N 1 --k $1 --k_test 50 --runs 3 --val_after 2500 --cpu --T 14 --validate --meta_batch_size 2 --lr 0.0032937018686863585 --base_lr 0.003769030557807799 --model_spec somaml-best-hsize91 --hdims [91,91,91]\n",
    "\n",
    "**best OPLSTM**\n",
    "\n",
    "python -u main.py --problem sine --model oplstm --second_order --N 1 --k $1 --k_test 50 --runs 3 --val_after 2500 --cpu --validate --meta_batch_size 1 --lr 0.0010448688371510757 --model_spec oplstm-70k-best --layers 5,5,1 --hidden_size 1 --T 9 --elwise --learn_init_weight --lstm_inputs target_pred --hdims [91,91,91]  --gamma 0.025\n",
    "\n",
    "oplstm-70k-9_1_0.0010448688371510757\n",
    "\n",
    "\n",
    "oplstm-70k-"
   ]
  },
  {
   "cell_type": "code",
   "execution_count": 5,
   "metadata": {},
   "outputs": [
    {
     "name": "stdout",
     "output_type": "stream",
     "text": [
      "k= 5\n",
      "oplstm-70k-best 0.10540017640795361 0.009046934041056318\n",
      "somaml-best-hsize91 0.17653166841748558 0.009424709234501755\n",
      "----------------------------------------\n",
      "k= 10\n",
      "oplstm-70k-best 0.007567328537161858 0.0007291992200608808\n",
      "somaml-best-hsize91 0.032948145922263646 0.0029543869715054037\n",
      "----------------------------------------\n",
      "k= 20\n",
      "oplstm-70k-best 0.002690515086822366 0.00015408945801454995\n",
      "somaml-best-hsize91 0.004867439069036917 0.0005119710979965796\n",
      "----------------------------------------\n"
     ]
    }
   ],
   "source": [
    "import os\n",
    "import numpy as np\n",
    "import pandas as pd\n",
    "import scipy.stats as st\n",
    "\n",
    "from copy import deepcopy\n",
    "\n",
    "ks=[5,10,20]\n",
    "for k in ks:\n",
    "    PATH = f\"./N1k{k}test50/\"\n",
    "    print('k=', k)\n",
    "    techniques = [x for x in os.listdir(PATH) if x==\"oplstm-70k-best\" or \"somaml-best-hsize91\"==x]\n",
    "    tpaths = [PATH + x for x in techniques]\n",
    "\n",
    "    RES = []\n",
    "    LOSS = dict()\n",
    "    for technique, tdir in zip(techniques, tpaths):\n",
    "        tfile = tdir + \"/-runs/\" \n",
    "        try:\n",
    "            tfile = tfile + [x for x in os.listdir(tfile) if \"alltestperf\" in x][0]\n",
    "        except:\n",
    "            print(f\"No test perf file found for {technique}\")\n",
    "            continue\n",
    "\n",
    "        data = pd.read_csv(tfile, header=None).to_numpy().reshape(-1)\n",
    "        mean_perf, std_perf = data.mean(), data.std()\n",
    "        a = data\n",
    "        lb, ub = st.t.interval(0.95, len(a)-1, loc=np.mean(a), scale=st.sem(a))\n",
    "        ci = a.mean() - lb\n",
    "\n",
    "        print(technique, mean_perf, ci)\n",
    "    print('-'*40)\n",
    "    "
   ]
  },
  {
   "cell_type": "code",
   "execution_count": 1,
   "metadata": {},
   "outputs": [
    {
     "name": "stdout",
     "output_type": "stream",
     "text": [
      "oplstm-70k-10_4_0.004321072194838596 0.15160826746048406 0.019987871452182726\n",
      "oplstm-70k-11_2_0.00010893507255537653 0.6418807565439493 0.046824309618950455\n",
      "oplstm-70k-11_3_0.00016098550271858659 0.5310032525672578 0.0412005119382538\n",
      "oplstm-70k-13_2_9.011400868236316e-05 0.7178243235051632 0.049709497475738496\n",
      "oplstm-70k-14_1_3.216361796021737e-05 2.007132756950334 0.08887234024566881\n",
      "oplstm-70k-1_4_0.001 0.27043028025561944 0.01811830832963246\n",
      "oplstm-70k-3_3_0.00776573116016386 0.2629081170097925 0.01923562329807013\n",
      "oplstm-70k-4_1_0.028790052229093227 3.079205520745367 0.12940093901017669\n",
      "oplstm-70k-4_2_0.002770576962134859 0.0798188144410087 0.007708032593636588\n",
      "oplstm-70k-4_2_4.64820226097604e-05 2.693114103231579 0.12064032756220255\n",
      "oplstm-70k-4_4_0.004673978383086751 0.13428212784731294 0.01367364771630658\n",
      "oplstm-70k-5_1_0.00023584798464763238 0.08637373695452695 0.008388930865469782\n",
      "oplstm-70k-5_1_2.092886487381084e-05 2.857184988634661 0.12300520722176556\n",
      "oplstm-70k-5_2_2.8585518456486535e-05 2.8124904287140815 0.12241694970339445\n",
      "oplstm-70k-6_3_0.0006538281143115779 0.07201294896646866 0.007570210320368045\n",
      "oplstm-70k-6_3_0.0027719328599832087 0.14980063032102772 0.019619795435885795\n",
      "oplstm-70k-8_3_0.005462569008912091 0.24174600816355088 0.026773085728357238\n",
      "oplstm-70k-9_1_0.0010448688371510757 0.038599172557354865 0.003224818252068079\n",
      "oplstm-70k-9_2_0.00010914286603608817 0.665946969633922 0.04749387104844072\n",
      "oplstm-70k-9_2_0.007002448809789397 1.1157996243564412 0.05938373294792343\n",
      "oplstm-70k-9_3_1.3254610570097222e-05 3.189743782348931 0.12704626030658694\n"
     ]
    }
   ],
   "source": [
    "import os\n",
    "import numpy as np\n",
    "import pandas as pd\n",
    "import scipy.stats as st\n",
    "\n",
    "from copy import deepcopy\n",
    "\n",
    "PATH = \"./N1k5test50/\"\n",
    "\n",
    "techniques = [x for x in os.listdir(PATH) if \"oplstm-70k-\" in x]\n",
    "tpaths = [PATH + x for x in techniques]\n",
    "\n",
    "RES = []\n",
    "LOSS = dict()\n",
    "for technique, tdir in zip(techniques, tpaths):\n",
    "    tfile = tdir + \"/-runs/\" \n",
    "    try:\n",
    "        tfile = tfile + [x for x in os.listdir(tfile) if \"alltestperf\" in x][0]\n",
    "    except:\n",
    "        print(f\"No test perf file found for {technique}\")\n",
    "        continue\n",
    "    \n",
    "    data = pd.read_csv(tfile, header=None).to_numpy().reshape(-1)\n",
    "    mean_perf, std_perf = data.mean(), data.std()\n",
    "    a = data\n",
    "    lb, ub = st.t.interval(0.95, len(a)-1, loc=np.mean(a), scale=st.sem(a))\n",
    "    ci = a.mean() - lb\n",
    "\n",
    "    print(technique, mean_perf, ci)\n",
    "    "
   ]
  },
  {
   "cell_type": "code",
   "execution_count": 9,
   "metadata": {},
   "outputs": [
    {
     "data": {
      "text/plain": [
       "46969"
      ]
     },
     "execution_count": 9,
     "metadata": {},
     "output_type": "execute_result"
    }
   ],
   "source": [
    "h=152; n_layers=3\n",
    "num_params = h*(n_layers+2) + h**2 * (n_layers-1) + 1\n",
    "num_params"
   ]
  },
  {
   "cell_type": "code",
   "execution_count": null,
   "metadata": {},
   "outputs": [],
   "source": []
  },
  {
   "cell_type": "code",
   "execution_count": null,
   "metadata": {},
   "outputs": [],
   "source": []
  },
  {
   "cell_type": "markdown",
   "metadata": {},
   "source": [
    "### 10-shot, 20-shot\n",
    "\n",
    "python -u main.py --problem sine --model simplelstm --N 1 --k 10 --k_test 50 --runs 3 --val_after 2500 --cpu --hidden_size 40 --T 10 --validate --loss_type post --meta_batch_size 4 --num_layers 4 --lr 0.004321072194838596 --model_spec best-simplelstm\n",
    "\n",
    "python -u main.py --problem sine --model simplelstm --N 1 --k 20 --k_test 50 --runs 3 --val_after 2500 --cpu --hidden_size 40 --T 10 --validate --loss_type post --meta_batch_size 4 --num_layers 4 --lr 0.004321072194838596 --model_spec best-simplelstm\n",
    "\n",
    "\n",
    "python -u main.py --problem sine --model maml --second_order --N 1 --k 10 --k_test 50 --runs 3 --val_after 2500 --cpu --T 14 --validate --meta_batch_size 2 --lr 0.0032937018686863585 --base_lr 0.003769030557807799 --model_spec somaml-best-hsize150 --hdims [150,150,150]\n",
    "\n",
    "python -u main.py --problem sine --model maml --second_order --N 1 --k 20 --k_test 50 --runs 3 --val_after 2500 --cpu --T 14 --validate --meta_batch_size 2 --lr 0.0032937018686863585 --base_lr 0.003769030557807799 --model_spec somaml-best-hsize150 --hdims [150,150,150]\n",
    "\n",
    "\n"
   ]
  },
  {
   "cell_type": "code",
   "execution_count": 2,
   "metadata": {},
   "outputs": [
    {
     "name": "stdout",
     "output_type": "stream",
     "text": [
      "----------------------------------------\n",
      "./N1k10test50/\n",
      "best-simplelstm 0.008404746749707507 0.00046903388532092485\n",
      "somaml-best-hsize150 0.028202192792758627 0.002200949292832894\n",
      "----------------------------------------\n",
      "./N1k20test50/\n",
      "best-simplelstm 0.00418519864762003 0.0001259638691781138\n",
      "somaml-best-hsize150 0.004728589221764753 0.00043627250286745224\n"
     ]
    }
   ],
   "source": [
    "import os\n",
    "import numpy as np\n",
    "import pandas as pd\n",
    "import scipy.stats as st\n",
    "\n",
    "from copy import deepcopy\n",
    "\n",
    "\n",
    "for PATH in [\"./N1k10test50/\", \"./N1k20test50/\"]:\n",
    "    print('-'*40)\n",
    "    print(PATH)\n",
    "    \n",
    "\n",
    "    techniques = [x for x in os.listdir(PATH)]\n",
    "    tpaths = [PATH + x for x in techniques]\n",
    "\n",
    "    RES = []\n",
    "    LOSS = dict()\n",
    "    for technique, tdir in zip(techniques, tpaths):\n",
    "        tfile = tdir + \"/-runs/\" \n",
    "        try:\n",
    "            tfile = tfile + [x for x in os.listdir(tfile) if \"alltestperf\" in x][0]\n",
    "        except:\n",
    "            print(f\"No test perf file found for {technique}\")\n",
    "            continue\n",
    "\n",
    "        data = pd.read_csv(tfile, header=None).to_numpy().reshape(-1)\n",
    "        mean_perf, std_perf = data.mean(), data.std()\n",
    "        a = data\n",
    "        lb, ub = st.t.interval(0.95, len(a)-1, loc=np.mean(a), scale=st.sem(a))\n",
    "        ci = a.mean() - lb\n",
    "\n",
    "        print(technique, mean_perf, ci)\n",
    "    "
   ]
  },
  {
   "cell_type": "code",
   "execution_count": null,
   "metadata": {},
   "outputs": [],
   "source": []
  },
  {
   "cell_type": "code",
   "execution_count": null,
   "metadata": {},
   "outputs": [],
   "source": []
  },
  {
   "cell_type": "markdown",
   "metadata": {},
   "source": [
    "# Different inputs \n",
    "\n",
    "\n",
    "\n",
    "python -u main.py --problem sine --model simplelstm --N 1 --k 5 --k_test 50 --runs 3 --val_after 2500 --cpu --hidden_size $1 --T $2 --validate --loss_type post --meta_batch_size $4 --num_layers $5 --lr $6 --model_spec simplelstm-inputs-$1-$2-$3-$4-$5-$6 --lstm_inputs $3\n",
    "\n",
    "python -u main.py --problem sine --model simplelstm --N 1 --k 5 --k_test 50 --runs 3 --val_after 2500 --cpu --hidden_size 8 --T 1 --validate --loss_type post --meta_batch_size 1 --num_layers 4 --lr 0.00025 --model_spec simplelstm-inputstest --lstm_inputs currtarget\n",
    "\n",
    "\n",
    "#!/bin/bash\n",
    "\n",
    "Ts=(9 9 11 3 4 9 5 9 14 4 6 10 5 4 4 6 13 5 11 8 1 1)\n",
    "Lrs=(0.0010448688371510757 1.3254610570097222e-05 0.00016098550271858659 0.00776573116016386 0.004673978383086751 0.007002448809789397 0.00023584798464763238 0.00010914286603608817 3.216361796021737e-05 4.64820226097604e-05 0.0006538281143115779 0.004321072194838596 2.8585518456486535e-05 0.002770576962134859 0.028790052229093227 0.0027719328599832087 9.011400868236316e-05 2.092886487381084e-05 0.00010893507255537653 0.005462569008912091 0.001 0.001)\n",
    "Nlayers=(4 1 4 3 2 4 1 1 3 3 3 4 2 4 2 1 1 3 3 3 3 4)\n",
    "Mbs=(1 3 3 3 4 2 1 2 1 2 3 4 2 2 1 3 2 1 2 3 4 4)\n",
    "Hs=(3 1 1 8 40 20 1 3 40 8 20 40 40 1 3 1 40 3 20 20 40 40)\n",
    "Ls=(\"prevtarget\" \"prev_target_pred\" \"prev_target_err\" \"prev_target_pred_err\")\n",
    "\n",
    "\n",
    "\n",
    "for loss in ${Ls[@]}; do\n",
    "for i in $(seq 0 21)\n",
    "do\n",
    "echo ${Hs[i]} ${Ts[i]} $loss ${Mbs[i]} ${Nlayers[i]} ${Lrs[i]}\n",
    "#sbatch sinejob.slurm ${Hs[i]} ${Ts[i]} $loss ${Mbs[i]} ${Nlayers[i]} ${Lrs[i]}\n",
    "#sleep 1\n",
    "done\n",
    "done"
   ]
  },
  {
   "cell_type": "code",
   "execution_count": 10,
   "metadata": {},
   "outputs": [
    {
     "name": "stdout",
     "output_type": "stream",
     "text": [
      "----------------------------------------\n",
      "./N1k5test50/\n",
      "simplelstm-inputs-1-11-prevtarget-3-4-0.00016098550271858659 3.4065649554183084 0.07869058101849147\n",
      "simplelstm-inputs-1-11-prev_target_err-3-4-0.00016098550271858659 3.5882772629509367 0.08219817719684253\n",
      "simplelstm-inputs-1-11-prev_target_pred-3-4-0.00016098550271858659 3.589725694574416 0.08201200204552617\n",
      "simplelstm-inputs-1-11-prev_target_pred_err-3-4-0.00016098550271858659 3.4930094656205424 0.08106730295093012\n",
      "simplelstm-inputs-1-4-prevtarget-2-4-0.002770576962134859 3.050442966282678 0.07795231635457656\n",
      "simplelstm-inputs-1-4-prev_target_err-2-4-0.002770576962134859 3.248933874339486 0.07822436533559207\n",
      "simplelstm-inputs-1-4-prev_target_pred-2-4-0.002770576962134859 3.2511613145110507 0.07812553067099604\n",
      "simplelstm-inputs-1-4-prev_target_pred_err-2-4-0.002770576962134859 3.248300799521928 0.07821609348966918\n",
      "simplelstm-inputs-1-5-prevtarget-1-1-0.00023584798464763238 3.5959809136142336 0.08123004307180004\n",
      "simplelstm-inputs-1-5-prev_target_err-1-1-0.00023584798464763238 3.5896296613241234 0.08104864537520351\n",
      "simplelstm-inputs-1-5-prev_target_pred-1-1-0.00023584798464763238 3.5957443482230107 0.08113490777085941\n",
      "simplelstm-inputs-1-5-prev_target_pred_err-1-1-0.00023584798464763238 3.8000324789077666 0.08546956955170426\n",
      "simplelstm-inputs-1-6-prevtarget-3-1-0.0027719328599832087 3.574582813938459 0.08060931276708194\n",
      "simplelstm-inputs-1-6-prev_target_err-3-1-0.0027719328599832087 3.570540179165701 0.08054207844120409\n",
      "simplelstm-inputs-1-6-prev_target_pred-3-1-0.0027719328599832087 3.572333684831858 0.08053778971079906\n",
      "simplelstm-inputs-1-6-prev_target_pred_err-3-1-0.0027719328599832087 3.6337226310732462 0.08164977394488604\n",
      "['simplelstm', 'inputs', '1', '9', 'prevtarget', '3', '1', '1.3254610570097222e-05']\n",
      "simplelstm-inputs-1-9-prevtarget-3-1-1.3254610570097222e-05 4.56512532402575 0.09610170995383616\n",
      "['simplelstm', 'inputs', '1', '9', 'prev_target_err', '3', '1', '1.3254610570097222e-05']\n",
      "simplelstm-inputs-1-9-prev_target_err-3-1-1.3254610570097222e-05 4.474309477734069 0.09531297899346569\n",
      "['simplelstm', 'inputs', '1', '9', 'prev_target_pred', '3', '1', '1.3254610570097222e-05']\n",
      "simplelstm-inputs-1-9-prev_target_pred-3-1-1.3254610570097222e-05 4.4643853034532315 0.09522345724338965\n",
      "['simplelstm', 'inputs', '1', '9', 'prev_target_pred_err', '3', '1', '1.3254610570097222e-05']\n",
      "simplelstm-inputs-1-9-prev_target_pred_err-3-1-1.3254610570097222e-05 4.503176625855578 0.09623595006888408\n",
      "simplelstm-inputs-20-11-prevtarget-2-3-0.00010893507255537653 2.481037672944115 0.07567514962726207\n",
      "simplelstm-inputs-20-11-prev_target_err-2-3-0.00010893507255537653 2.8230460295688826 0.07996882652791104\n",
      "simplelstm-inputs-20-11-prev_target_pred-2-3-0.00010893507255537653 2.091803760248081 0.06583177538615459\n",
      "simplelstm-inputs-20-11-prev_target_pred_err-2-3-0.00010893507255537653 2.865061818892369 0.07885731421198594\n",
      "simplelstm-inputs-20-6-prevtarget-3-3-0.0006538281143115779 0.34761005210271106 0.013492981272353821\n",
      "simplelstm-inputs-20-6-prev_target_err-3-3-0.0006538281143115779 0.30644624770104806 0.025548742352644593\n",
      "simplelstm-inputs-20-6-prev_target_pred-3-3-0.0006538281143115779 0.2708156581131722 0.017816612043538904\n",
      "simplelstm-inputs-20-6-prev_target_pred_err-3-3-0.0006538281143115779 0.3715558246499083 0.02933729979570554\n",
      "simplelstm-inputs-20-8-prevtarget-3-3-0.005462569008912091 0.07078084481176238 0.005847097400706505\n",
      "simplelstm-inputs-20-8-prev_target_err-3-3-0.005462569008912091 0.1552213084102841 0.010583605607967866\n",
      "simplelstm-inputs-20-8-prev_target_pred-3-3-0.005462569008912091 0.25947498682295556 0.014379966907093644\n",
      "simplelstm-inputs-20-8-prev_target_pred_err-3-3-0.005462569008912091 0.10562888698724172 0.006450107954596523\n",
      "simplelstm-inputs-20-9-prevtarget-2-4-0.007002448809789397 0.08973837479060356 0.009856519476265507\n",
      "simplelstm-inputs-20-9-prev_target_err-2-4-0.007002448809789397 0.8327125858210492 0.03838065072207142\n",
      "simplelstm-inputs-20-9-prev_target_pred-2-4-0.007002448809789397 0.1550969675464633 0.009333053251488088\n",
      "simplelstm-inputs-20-9-prev_target_pred_err-2-4-0.007002448809789397 0.6473884724699116 0.025035503131905168\n",
      "simplelstm-inputs-3-4-prevtarget-1-2-0.028790052229093227 2.964291087674598 0.07862866303211868\n",
      "simplelstm-inputs-3-4-prev_target_err-1-2-0.028790052229093227 3.1839849305994186 0.07699604117956849\n",
      "simplelstm-inputs-3-4-prev_target_pred-1-2-0.028790052229093227 3.0996403702214983 0.07794283835927285\n",
      "simplelstm-inputs-3-4-prev_target_pred_err-1-2-0.028790052229093227 3.228766753446311 0.07844746197478392\n",
      "['simplelstm', 'inputs', '3', '5', 'prevtarget', '1', '3', '2.092886487381084e-05']\n",
      "simplelstm-inputs-3-5-prevtarget-1-3-2.092886487381084e-05 3.4793649449336033 0.08066984910379915\n",
      "['simplelstm', 'inputs', '3', '5', 'prev_target_err', '1', '3', '2.092886487381084e-05']\n",
      "simplelstm-inputs-3-5-prev_target_err-1-3-2.092886487381084e-05 3.805278932850187 0.08698534550560977\n",
      "['simplelstm', 'inputs', '3', '5', 'prev_target_pred', '1', '3', '2.092886487381084e-05']\n",
      "simplelstm-inputs-3-5-prev_target_pred-1-3-2.092886487381084e-05 3.9126787477804656 0.0882582127859548\n",
      "['simplelstm', 'inputs', '3', '5', 'prev_target_pred_err', '1', '3', '2.092886487381084e-05']\n",
      "simplelstm-inputs-3-5-prev_target_pred_err-1-3-2.092886487381084e-05 3.5249640222905825 0.08191549717961522\n",
      "simplelstm-inputs-3-9-prevtarget-1-4-0.0010448688371510757 2.183347876114693 0.06729808492993694\n",
      "simplelstm-inputs-3-9-prevtarget-2-1-0.00010914286603608817 3.2972853248684357 0.07700352860259674\n",
      "simplelstm-inputs-3-9-prev_target_err-1-4-0.0010448688371510757 3.007104499738004 0.07952126132092108\n",
      "simplelstm-inputs-3-9-prev_target_err-2-1-0.00010914286603608817 3.263281485002488 0.07767203617528251\n",
      "simplelstm-inputs-3-9-prev_target_pred-1-4-0.0010448688371510757 2.77044743770555 0.07771596832315275\n",
      "simplelstm-inputs-3-9-prev_target_pred-2-1-0.00010914286603608817 3.304270074625189 0.0767628517121457\n",
      "simplelstm-inputs-3-9-prev_target_pred_err-1-4-0.0010448688371510757 3.0468895324077456 0.07848827610226383\n",
      "simplelstm-inputs-3-9-prev_target_pred_err-2-1-0.00010914286603608817 3.2874582414949933 0.07734419253453284\n",
      "simplelstm-inputs-40-10-prevtarget-4-4-0.004321072194838596 0.047930590359147235 0.0027265197076177666\n",
      "simplelstm-inputs-40-10-prev_target_err-4-4-0.004321072194838596 0.14242364573620336 0.014357613322749513\n",
      "simplelstm-inputs-40-10-prev_target_pred-4-4-0.004321072194838596 0.03644585523245765 0.002289497138104335\n",
      "simplelstm-inputs-40-10-prev_target_pred_err-4-4-0.004321072194838596 0.10193084813770835 0.005375568852162962\n",
      "['simplelstm', 'inputs', '40', '13', 'prevtarget', '2', '1', '9.011400868236316e-05']\n",
      "simplelstm-inputs-40-13-prevtarget-2-1-9.011400868236316e-05 2.897854817463861 0.07729497745136049\n",
      "['simplelstm', 'inputs', '40', '13', 'prev_target_err', '2', '1', '9.011400868236316e-05']\n",
      "simplelstm-inputs-40-13-prev_target_err-2-1-9.011400868236316e-05 2.977937482481279 0.07738760951907331\n",
      "['simplelstm', 'inputs', '40', '13', 'prev_target_pred', '2', '1', '9.011400868236316e-05']\n",
      "simplelstm-inputs-40-13-prev_target_pred-2-1-9.011400868236316e-05 2.784830805144273 0.07435423852947132\n",
      "['simplelstm', 'inputs', '40', '13', 'prev_target_pred_err', '2', '1', '9.011400868236316e-05']\n",
      "simplelstm-inputs-40-13-prev_target_pred_err-2-1-9.011400868236316e-05 3.029923097558397 0.07904813233462837\n",
      "['simplelstm', 'inputs', '40', '14', 'prevtarget', '1', '3', '3.216361796021737e-05']\n",
      "simplelstm-inputs-40-14-prevtarget-1-3-3.216361796021737e-05 2.7717880100645127 0.0787697744511382\n",
      "['simplelstm', 'inputs', '40', '14', 'prev_target_err', '1', '3', '3.216361796021737e-05']\n",
      "simplelstm-inputs-40-14-prev_target_err-1-3-3.216361796021737e-05 2.9263998802489755 0.07998953156848998\n",
      "['simplelstm', 'inputs', '40', '14', 'prev_target_pred', '1', '3', '3.216361796021737e-05']\n",
      "simplelstm-inputs-40-14-prev_target_pred-1-3-3.216361796021737e-05 2.8611331242901894 0.07889250513644797\n",
      "['simplelstm', 'inputs', '40', '14', 'prev_target_pred_err', '1', '3', '3.216361796021737e-05']\n",
      "simplelstm-inputs-40-14-prev_target_pred_err-1-3-3.216361796021737e-05 2.89183114906447 0.08049565590554586\n",
      "simplelstm-inputs-40-4-prevtarget-4-2-0.004673978383086751 0.04488647028609311 0.0028968208119193317\n",
      "simplelstm-inputs-40-4-prev_target_err-4-2-0.004673978383086751 0.049836197438999044 0.003877340794544576\n",
      "simplelstm-inputs-40-4-prev_target_pred-4-2-0.004673978383086751 0.027696312326840854 0.0015534571514226846\n",
      "simplelstm-inputs-40-4-prev_target_pred_err-4-2-0.004673978383086751 0.05682488238639292 0.010881503719748518\n",
      "['simplelstm', 'inputs', '40', '5', 'prevtarget', '2', '2', '2.8585518456486535e-05']\n",
      "simplelstm-inputs-40-5-prevtarget-2-2-2.8585518456486535e-05 3.1776083628982303 0.0801451815858476\n",
      "['simplelstm', 'inputs', '40', '5', 'prev_target_err', '2', '2', '2.8585518456486535e-05']\n",
      "simplelstm-inputs-40-5-prev_target_err-2-2-2.8585518456486535e-05 3.16231444686139 0.0801126970160917\n",
      "['simplelstm', 'inputs', '40', '5', 'prev_target_pred', '2', '2', '2.8585518456486535e-05']\n",
      "simplelstm-inputs-40-5-prev_target_pred-2-2-2.8585518456486535e-05 3.234543610603238 0.08041599374244512\n",
      "['simplelstm', 'inputs', '40', '5', 'prev_target_pred_err', '2', '2', '2.8585518456486535e-05']\n",
      "simplelstm-inputs-40-5-prev_target_pred_err-2-2-2.8585518456486535e-05 3.1661235707456554 0.08019260275092055\n",
      "simplelstm-inputs-8-3-prevtarget-3-3-0.00776573116016386 0.2864304551190192 0.012442968011026512\n",
      "simplelstm-inputs-8-3-prev_target_err-3-3-0.00776573116016386 1.493094159286935 0.058102457862319934\n",
      "simplelstm-inputs-8-3-prev_target_pred-3-3-0.00776573116016386 0.4365011934268987 0.01944323469900805\n",
      "simplelstm-inputs-8-3-prev_target_pred_err-3-3-0.00776573116016386 1.6186237143289763 0.06161687655250647\n",
      "['simplelstm', 'inputs', '8', '4', 'prevtarget', '2', '3', '4.64820226097604e-05']\n",
      "simplelstm-inputs-8-4-prevtarget-2-3-4.64820226097604e-05 3.2473506181780247 0.0778667408431617\n",
      "['simplelstm', 'inputs', '8', '4', 'prev_target_err', '2', '3', '4.64820226097604e-05']\n",
      "simplelstm-inputs-8-4-prev_target_err-2-3-4.64820226097604e-05 3.168050021140526 0.07875273688210083\n",
      "['simplelstm', 'inputs', '8', '4', 'prev_target_pred', '2', '3', '4.64820226097604e-05']\n",
      "simplelstm-inputs-8-4-prev_target_pred-2-3-4.64820226097604e-05 3.2720285379687946 0.07645960880546054\n",
      "['simplelstm', 'inputs', '8', '4', 'prev_target_pred_err', '2', '3', '4.64820226097604e-05']\n",
      "simplelstm-inputs-8-4-prev_target_pred_err-2-3-4.64820226097604e-05 3.1135576950207664 0.07967412734774415\n"
     ]
    }
   ],
   "source": [
    "import os\n",
    "import numpy as np\n",
    "import pandas as pd\n",
    "import scipy.stats as st\n",
    "\n",
    "from copy import deepcopy\n",
    "\n",
    "\n",
    "for PATH in [\"./N1k5test50/\"]:\n",
    "    print('-'*40)\n",
    "    print(PATH)\n",
    "    \n",
    "\n",
    "    techniques = [x for x in os.listdir(PATH) if \"input\" in x]\n",
    "    tpaths = [PATH + x for x in techniques]\n",
    "    \n",
    "    \n",
    "    rows = []\n",
    "    \n",
    "    \n",
    "    RES = []\n",
    "    LOSS = dict()\n",
    "    for technique, tdir in zip(techniques, tpaths):\n",
    "        components = technique.split(\"-\")\n",
    "        \n",
    "        if len(components) == 9:\n",
    "            components[-2] = components[-2] + '-' + components[-1]\n",
    "            print(components[:-1])\n",
    "        \n",
    "        \n",
    "        \n",
    "        tfile = tdir + \"/-runs/\" \n",
    "        try:\n",
    "            tfile = tfile + [x for x in os.listdir(tfile) if \"alltestperf\" in x][0]\n",
    "        except:\n",
    "            print(f\"No test perf file found for {technique}\")\n",
    "            continue\n",
    "\n",
    "        data = pd.read_csv(tfile, header=None).to_numpy().reshape(-1)\n",
    "        mean_perf, std_perf = data.mean(), data.std()\n",
    "        a = data\n",
    "        lb, ub = st.t.interval(0.95, len(a)-1, loc=np.mean(a), scale=st.sem(a))\n",
    "        ci = a.mean() - lb\n",
    "        \n",
    "        if len(components) == 9:\n",
    "            row = components[:-1] + [mean_perf, ci]\n",
    "        else:\n",
    "            row = components + [mean_perf, ci]\n",
    "        rows.append(row)\n",
    "\n",
    "        print(technique, mean_perf, ci)\n",
    "    "
   ]
  },
  {
   "cell_type": "code",
   "execution_count": 13,
   "metadata": {},
   "outputs": [
    {
     "data": {
      "text/html": [
       "<div>\n",
       "<style scoped>\n",
       "    .dataframe tbody tr th:only-of-type {\n",
       "        vertical-align: middle;\n",
       "    }\n",
       "\n",
       "    .dataframe tbody tr th {\n",
       "        vertical-align: top;\n",
       "    }\n",
       "\n",
       "    .dataframe thead th {\n",
       "        text-align: right;\n",
       "    }\n",
       "</style>\n",
       "<table border=\"1\" class=\"dataframe\">\n",
       "  <thead>\n",
       "    <tr style=\"text-align: right;\">\n",
       "      <th></th>\n",
       "      <th>0</th>\n",
       "      <th>1</th>\n",
       "      <th>2</th>\n",
       "      <th>3</th>\n",
       "      <th>4</th>\n",
       "      <th>5</th>\n",
       "      <th>6</th>\n",
       "      <th>7</th>\n",
       "      <th>8</th>\n",
       "      <th>9</th>\n",
       "    </tr>\n",
       "  </thead>\n",
       "  <tbody>\n",
       "    <tr>\n",
       "      <th>0</th>\n",
       "      <td>simplelstm</td>\n",
       "      <td>inputs</td>\n",
       "      <td>1</td>\n",
       "      <td>11</td>\n",
       "      <td>prevtarget</td>\n",
       "      <td>3</td>\n",
       "      <td>4</td>\n",
       "      <td>0.00016098550271858659</td>\n",
       "      <td>3.406565</td>\n",
       "      <td>0.078691</td>\n",
       "    </tr>\n",
       "    <tr>\n",
       "      <th>1</th>\n",
       "      <td>simplelstm</td>\n",
       "      <td>inputs</td>\n",
       "      <td>1</td>\n",
       "      <td>11</td>\n",
       "      <td>prev_target_err</td>\n",
       "      <td>3</td>\n",
       "      <td>4</td>\n",
       "      <td>0.00016098550271858659</td>\n",
       "      <td>3.588277</td>\n",
       "      <td>0.082198</td>\n",
       "    </tr>\n",
       "    <tr>\n",
       "      <th>2</th>\n",
       "      <td>simplelstm</td>\n",
       "      <td>inputs</td>\n",
       "      <td>1</td>\n",
       "      <td>11</td>\n",
       "      <td>prev_target_pred</td>\n",
       "      <td>3</td>\n",
       "      <td>4</td>\n",
       "      <td>0.00016098550271858659</td>\n",
       "      <td>3.589726</td>\n",
       "      <td>0.082012</td>\n",
       "    </tr>\n",
       "    <tr>\n",
       "      <th>3</th>\n",
       "      <td>simplelstm</td>\n",
       "      <td>inputs</td>\n",
       "      <td>1</td>\n",
       "      <td>11</td>\n",
       "      <td>prev_target_pred_err</td>\n",
       "      <td>3</td>\n",
       "      <td>4</td>\n",
       "      <td>0.00016098550271858659</td>\n",
       "      <td>3.493009</td>\n",
       "      <td>0.081067</td>\n",
       "    </tr>\n",
       "    <tr>\n",
       "      <th>4</th>\n",
       "      <td>simplelstm</td>\n",
       "      <td>inputs</td>\n",
       "      <td>1</td>\n",
       "      <td>4</td>\n",
       "      <td>prevtarget</td>\n",
       "      <td>2</td>\n",
       "      <td>4</td>\n",
       "      <td>0.002770576962134859</td>\n",
       "      <td>3.050443</td>\n",
       "      <td>0.077952</td>\n",
       "    </tr>\n",
       "    <tr>\n",
       "      <th>...</th>\n",
       "      <td>...</td>\n",
       "      <td>...</td>\n",
       "      <td>...</td>\n",
       "      <td>...</td>\n",
       "      <td>...</td>\n",
       "      <td>...</td>\n",
       "      <td>...</td>\n",
       "      <td>...</td>\n",
       "      <td>...</td>\n",
       "      <td>...</td>\n",
       "    </tr>\n",
       "    <tr>\n",
       "      <th>75</th>\n",
       "      <td>simplelstm</td>\n",
       "      <td>inputs</td>\n",
       "      <td>8</td>\n",
       "      <td>3</td>\n",
       "      <td>prev_target_pred_err</td>\n",
       "      <td>3</td>\n",
       "      <td>3</td>\n",
       "      <td>0.00776573116016386</td>\n",
       "      <td>1.618624</td>\n",
       "      <td>0.061617</td>\n",
       "    </tr>\n",
       "    <tr>\n",
       "      <th>76</th>\n",
       "      <td>simplelstm</td>\n",
       "      <td>inputs</td>\n",
       "      <td>8</td>\n",
       "      <td>4</td>\n",
       "      <td>prevtarget</td>\n",
       "      <td>2</td>\n",
       "      <td>3</td>\n",
       "      <td>4.64820226097604e-05</td>\n",
       "      <td>3.247351</td>\n",
       "      <td>0.077867</td>\n",
       "    </tr>\n",
       "    <tr>\n",
       "      <th>77</th>\n",
       "      <td>simplelstm</td>\n",
       "      <td>inputs</td>\n",
       "      <td>8</td>\n",
       "      <td>4</td>\n",
       "      <td>prev_target_err</td>\n",
       "      <td>2</td>\n",
       "      <td>3</td>\n",
       "      <td>4.64820226097604e-05</td>\n",
       "      <td>3.168050</td>\n",
       "      <td>0.078753</td>\n",
       "    </tr>\n",
       "    <tr>\n",
       "      <th>78</th>\n",
       "      <td>simplelstm</td>\n",
       "      <td>inputs</td>\n",
       "      <td>8</td>\n",
       "      <td>4</td>\n",
       "      <td>prev_target_pred</td>\n",
       "      <td>2</td>\n",
       "      <td>3</td>\n",
       "      <td>4.64820226097604e-05</td>\n",
       "      <td>3.272029</td>\n",
       "      <td>0.076460</td>\n",
       "    </tr>\n",
       "    <tr>\n",
       "      <th>79</th>\n",
       "      <td>simplelstm</td>\n",
       "      <td>inputs</td>\n",
       "      <td>8</td>\n",
       "      <td>4</td>\n",
       "      <td>prev_target_pred_err</td>\n",
       "      <td>2</td>\n",
       "      <td>3</td>\n",
       "      <td>4.64820226097604e-05</td>\n",
       "      <td>3.113558</td>\n",
       "      <td>0.079674</td>\n",
       "    </tr>\n",
       "  </tbody>\n",
       "</table>\n",
       "<p>80 rows × 10 columns</p>\n",
       "</div>"
      ],
      "text/plain": [
       "             0       1  2   3                     4  5  6  \\\n",
       "0   simplelstm  inputs  1  11            prevtarget  3  4   \n",
       "1   simplelstm  inputs  1  11       prev_target_err  3  4   \n",
       "2   simplelstm  inputs  1  11      prev_target_pred  3  4   \n",
       "3   simplelstm  inputs  1  11  prev_target_pred_err  3  4   \n",
       "4   simplelstm  inputs  1   4            prevtarget  2  4   \n",
       "..         ...     ... ..  ..                   ... .. ..   \n",
       "75  simplelstm  inputs  8   3  prev_target_pred_err  3  3   \n",
       "76  simplelstm  inputs  8   4            prevtarget  2  3   \n",
       "77  simplelstm  inputs  8   4       prev_target_err  2  3   \n",
       "78  simplelstm  inputs  8   4      prev_target_pred  2  3   \n",
       "79  simplelstm  inputs  8   4  prev_target_pred_err  2  3   \n",
       "\n",
       "                         7         8         9  \n",
       "0   0.00016098550271858659  3.406565  0.078691  \n",
       "1   0.00016098550271858659  3.588277  0.082198  \n",
       "2   0.00016098550271858659  3.589726  0.082012  \n",
       "3   0.00016098550271858659  3.493009  0.081067  \n",
       "4     0.002770576962134859  3.050443  0.077952  \n",
       "..                     ...       ...       ...  \n",
       "75     0.00776573116016386  1.618624  0.061617  \n",
       "76    4.64820226097604e-05  3.247351  0.077867  \n",
       "77    4.64820226097604e-05  3.168050  0.078753  \n",
       "78    4.64820226097604e-05  3.272029  0.076460  \n",
       "79    4.64820226097604e-05  3.113558  0.079674  \n",
       "\n",
       "[80 rows x 10 columns]"
      ]
     },
     "execution_count": 13,
     "metadata": {},
     "output_type": "execute_result"
    }
   ],
   "source": [
    "df = pd.DataFrame(rows)\n",
    "df"
   ]
  },
  {
   "cell_type": "code",
   "execution_count": 17,
   "metadata": {},
   "outputs": [
    {
     "data": {
      "text/plain": [
       "Text(0.5, 0, '')"
      ]
     },
     "execution_count": 17,
     "metadata": {},
     "output_type": "execute_result"
    },
    {
     "data": {
      "image/png": "[encoded data removed]",
      "text/plain": [
       "<Figure size 576x432 with 1 Axes>"
      ]
     },
     "metadata": {
      "needs_background": "light"
     },
     "output_type": "display_data"
    }
   ],
   "source": [
    "import matplotlib.pyplot as plt\n",
    "df.boxplot([9], by=[4],figsize=(8,6))\n",
    "#plt.xlabel(\"Number of training steps per task\", fontsize=18)\n",
    "plt.ylabel(\"Average test MSE\",fontsize=24)\n",
    "plt.title(\"\")\n",
    "plt.suptitle(\"\")\n",
    "plt.xlabel(\"\")\n",
    "#plt.yticks(fontsize=22)\n",
    "#plt.xticks(fontsize=24)"
   ]
  },
  {
   "cell_type": "code",
   "execution_count": 20,
   "metadata": {},
   "outputs": [],
   "source": [
    "pt = df[df[4] == \"prevtarget\"][8]\n",
    "ptpe = df[df[4] == \"prev_target_pred_err\"][8]\n",
    "ptp = df[df[4] == \"prev_target_pred\"][8]\n",
    "pte = df[df[4] == \"prev_target_err\"][8]"
   ]
  },
  {
   "cell_type": "code",
   "execution_count": 37,
   "metadata": {},
   "outputs": [
    {
     "data": {
      "text/plain": [
       "<matplotlib.legend.Legend at 0x157e8c40e08>"
      ]
     },
     "execution_count": 37,
     "metadata": {},
     "output_type": "execute_result"
    },
    {
     "data": {
      "image/png": "[encoded data removed]",
      "text/plain": [
       "<Figure size 864x576 with 1 Axes>"
      ]
     },
     "metadata": {
      "needs_background": "light"
     },
     "output_type": "display_data"
    }
   ],
   "source": [
    "plt.figure(figsize=(12,8))\n",
    "plt.scatter(np.arange(len(pt)), pt, label=\"prevtarget\", marker='o', s=80)\n",
    "plt.scatter(np.arange(len(pt)), ptpe, label=\"ptpe\", marker='P', s=80)\n",
    "plt.scatter(np.arange(len(pt)), ptp, label=\"ptp\", marker='D', s=80)\n",
    "plt.scatter(np.arange(len(pt)), pte, label=\"pte\", marker='s', s=80)\n",
    "plt.axhline(0.02795232649506453, linestyle='--')\n",
    "plt.legend()"
   ]
  },
  {
   "cell_type": "code",
   "execution_count": 47,
   "metadata": {},
   "outputs": [],
   "source": [
    "pt = df[df[4] == \"prevtarget\"][8].min()\n",
    "ptpe = df[df[4] == \"prev_target_pred_err\"][8].min()\n",
    "ptp = df[df[4] == \"prev_target_pred\"][8].min()\n",
    "pte = df[df[4] == \"prev_target_err\"][8].min()"
   ]
  },
  {
   "cell_type": "code",
   "execution_count": 51,
   "metadata": {},
   "outputs": [],
   "source": [
    "pt = list(df[df[4] == \"prevtarget\"][9])[np.argmin(list(df[df[4] == \"prevtarget\"][8]))]\n",
    "ptpe = list(df[df[4] == \"prev_target_pred_err\"][9])[np.argmin(list(df[df[4] == \"prev_target_pred_err\"][8]))]\n",
    "ptp = list(df[df[4] == \"prev_target_pred\"][9])[np.argmin(list(df[df[4] == \"prev_target_pred\"][8]))]\n",
    "pte = list(df[df[4] == \"prev_target_err\"][9])[np.argmin(list(df[df[4] == \"prev_target_err\"][8]))]"
   ]
  },
  {
   "cell_type": "markdown",
   "metadata": {},
   "source": [
    "**Best performances**"
   ]
  },
  {
   "cell_type": "code",
   "execution_count": 48,
   "metadata": {},
   "outputs": [
    {
     "data": {
      "text/plain": [
       "(0.04488647028609311,\n",
       " 0.027696312326840854,\n",
       " 0.049836197438999044,\n",
       " 0.05682488238639292)"
      ]
     },
     "execution_count": 48,
     "metadata": {},
     "output_type": "execute_result"
    }
   ],
   "source": [
    "pt,ptp,pte,ptpe"
   ]
  },
  {
   "cell_type": "markdown",
   "metadata": {},
   "source": [
    "**Confidence intervals**"
   ]
  },
  {
   "cell_type": "code",
   "execution_count": 52,
   "metadata": {},
   "outputs": [
    {
     "data": {
      "text/plain": [
       "(0.0028968208119193317,\n",
       " 0.0015534571514226846,\n",
       " 0.003877340794544576,\n",
       " 0.010881503719748518)"
      ]
     },
     "execution_count": 52,
     "metadata": {},
     "output_type": "execute_result"
    }
   ],
   "source": [
    "pt,ptp,pte,ptpe"
   ]
  },
  {
   "cell_type": "code",
   "execution_count": 57,
   "metadata": {},
   "outputs": [
    {
     "data": {
      "text/plain": [
       "'0.004673978383086751'"
      ]
     },
     "execution_count": 57,
     "metadata": {},
     "output_type": "execute_result"
    }
   ],
   "source": [
    "df.sort_values(8).iloc[0][7]"
   ]
  },
  {
   "cell_type": "markdown",
   "metadata": {},
   "source": [
    "**Best configuration for all:**\n",
    "${Hs[i]} ${Ts[i]} $loss ${Mbs[i]} ${Nlayers[i]} ${Lrs[i]}\n",
    "\n",
    "Hidden size: 40\n",
    "T: 4\n",
    "MBS: 4\n",
    "Num layers: 2\n",
    "Learning rate: 0.004673978383086751\n",
    "\n",
    "\n"
   ]
  },
  {
   "cell_type": "markdown",
   "metadata": {},
   "source": [
    "## Run the best on 10- and 20-shot\n",
    "\n",
    "\n",
    "python -u main.py --problem sine --model simplelstm --N 1 --k $1 --k_test 50 --runs 3 --val_after 2500 --cpu --hidden_size 40 --T 4 --validate --loss_type post --meta_batch_size 4 --num_layers 2 --lr 0.004673978383086751 --model_spec bestsimplelstm-inputs-$2 --lstm_inputs $2\n",
    "\n",
    "\n",
    "#!/bin/bash\n",
    "Ls=(\"prevtarget\" \"prev_target_pred\" \"prev_target_err\" \"prev_target_pred_err\")\n",
    "Ks=(10 20)\n",
    "\n",
    "\n",
    "for loss in ${Ls[@]}; do\n",
    "for k in ${Ks[@]}; do\n",
    "echo $k $loss\n",
    "sbatch sinejob.slurm $k $loss\n",
    "sleep 1\n",
    "done\n",
    "done"
   ]
  },
  {
   "cell_type": "code",
   "execution_count": null,
   "metadata": {},
   "outputs": [],
   "source": []
  },
  {
   "cell_type": "code",
   "execution_count": 46,
   "metadata": {},
   "outputs": [
    {
     "data": {
      "text/plain": [
       "20"
      ]
     },
     "execution_count": 46,
     "metadata": {},
     "output_type": "execute_result"
    }
   ],
   "source": [
    "len(list(df[df[4] == \"prevtarget\"][8]))"
   ]
  },
  {
   "cell_type": "code",
   "execution_count": null,
   "metadata": {},
   "outputs": [],
   "source": [
    "0.02795232649506453"
   ]
  },
  {
   "cell_type": "code",
   "execution_count": 3,
   "metadata": {},
   "outputs": [
    {
     "data": {
      "text/plain": [
       "9"
      ]
     },
     "execution_count": 3,
     "metadata": {},
     "output_type": "execute_result"
    }
   ],
   "source": [
    "len(technique.split(\"-\"))"
   ]
  },
  {
   "cell_type": "code",
   "execution_count": 4,
   "metadata": {},
   "outputs": [
    {
     "data": {
      "text/plain": [
       "['simplelstm',\n",
       " 'inputs',\n",
       " '8',\n",
       " '4',\n",
       " 'prev_target_pred_err',\n",
       " '2',\n",
       " '3',\n",
       " '4.64820226097604e',\n",
       " '05']"
      ]
     },
     "execution_count": 4,
     "metadata": {},
     "output_type": "execute_result"
    }
   ],
   "source": [
    "technique.split(\"-\")"
   ]
  },
  {
   "cell_type": "code",
   "execution_count": null,
   "metadata": {},
   "outputs": [],
   "source": []
  },
  {
   "cell_type": "code",
   "execution_count": 2,
   "metadata": {},
   "outputs": [
    {
     "data": {
      "text/plain": [
       "22"
      ]
     },
     "execution_count": 2,
     "metadata": {},
     "output_type": "execute_result"
    }
   ],
   "source": [
    "s = \"1 3 3 3 4 2 1 2 1 2 3 4 2 2 1 3 2 1 2 3 4 4\"\n",
    "len(s.split(\" \"))"
   ]
  },
  {
   "cell_type": "code",
   "execution_count": null,
   "metadata": {},
   "outputs": [],
   "source": []
  },
  {
   "cell_type": "code",
   "execution_count": null,
   "metadata": {},
   "outputs": [],
   "source": []
  },
  {
   "cell_type": "markdown",
   "metadata": {},
   "source": [
    "# OPLSTM on sine wave search\n",
    "\n",
    "\n",
    "**Using best MAML architecture**\n",
    "python -u main.py --problem sine --model oplstm --second_order --N 1 --k 5 --k_test 50 --runs 1 --val_after 2500 --cpu --validate --meta_batch_size $2 --lr $3 --model_spec oplstm-150h-$1_$2_$3 --layers 5,5,1 --hidden_size 1 --T $1 --seed 0 --elwise --learn_init_weight --lstm_inputs target_pred --hdims [150,150,150]  --gamma 0.025\n",
    "\n",
    "\n",
    "\n",
    "python -u main.py --problem sine --model oplstm --second_order --N 1 --k 5 --k_test 50 --runs 1 --val_after 2500 --cpu --validate --meta_batch_size $2 --lr $3 --model_spec oplstm-70k-$1_$2_$3 --layers 5,5,1 --hidden_size 1 --T $1 --seed 0 --elwise --learn_init_weight --lstm_inputs target_pred --hdims [91,91,91]  --gamma 0.025\n",
    "\n",
    "[91,91,91]\n",
    "\n",
    "\n",
    "#!/bin/bash\n",
    "\n",
    "Ts=(9 9 11 3 4 9 5 9 14 4 6 10 5 4 4 6 13 5 11 8 1 1)\n",
    "Lrs=(0.0010448688371510757 1.3254610570097222e-05 0.00016098550271858659 0.00776573116016386 0.004673978383086751 0.007002448809789397 0.00023584798464763238 0.00010914286603608817 3.216361796021737e-05 4.64820226097604e-05 0.0006538281143115779 0.004321072194838596 2.8585518456486535e-05 0.002770576962134859 0.028790052229093227 0.0027719328599832087 9.011400868236316e-05 2.092886487381084e-05 0.00010893507255537653 0.005462569008912091 0.001 0.001)\n",
    "Mbs=(1 3 3 3 4 2 1 2 1 2 3 4 2 2 1 3 2 1 2 3 4 4)\n",
    "\n",
    "\n",
    "\n",
    "for i in $(seq 0 21)\n",
    "do\n",
    "echo ${Ts[i]} ${Mbs[i]} ${Lrs[i]}\n",
    "sbatch sinejob.slurm ${Ts[i]} ${Mbs[i]} ${Lrs[i]}\n",
    "sleep 1\n",
    "done\n",
    "      \n",
    "\n",
    "${Ts[i]} ${Lrs[i]} ${Mbs[i]} "
   ]
  },
  {
   "cell_type": "code",
   "execution_count": 6,
   "metadata": {},
   "outputs": [
    {
     "data": {
      "text/plain": [
       "'100000 100000 100000 100000 400000 400000 400000 400000 800000 800000 800000 800000 1600000 1600000 1600000 1600000 3200000 3200000 3200000 3200000'"
      ]
     },
     "execution_count": 6,
     "metadata": {},
     "output_type": "execute_result"
    }
   ],
   "source": [
    "\" \".join([str(100000*int(x)//60000) for x in \"60000 60000 60000 60000 240000 240000 240000 240000 480000 480000 480000 480000 960000 960000 960000 960000 1920000 1920000 1920000 1920000\".split()])"
   ]
  },
  {
   "cell_type": "code",
   "execution_count": 31,
   "metadata": {},
   "outputs": [
    {
     "name": "stdout",
     "output_type": "stream",
     "text": [
      "['oplstm-150h-1-100000', 'oplstm-150h-1-1600000', 'oplstm-150h-1-3200000', 'oplstm-150h-1-400000', 'oplstm-150h-1-800000', 'oplstm-150h-10-100000', 'oplstm-150h-10-1600000', 'oplstm-150h-10-3200000', 'oplstm-150h-10-400000', 'oplstm-150h-10-800000', 'oplstm-150h-10_4_0.004321072194838596', 'oplstm-150h-11_2_0.00010893507255537653', 'oplstm-150h-11_3_0.00016098550271858659', 'oplstm-150h-13_2_9.011400868236316e-05', 'oplstm-150h-14_1_3.216361796021737e-05', 'oplstm-150h-1_4_0.001', 'oplstm-150h-3-100000', 'oplstm-150h-3-1600000', 'oplstm-150h-3-3200000', 'oplstm-150h-3-400000', 'oplstm-150h-3-800000', 'oplstm-150h-3_3_0.00776573116016386', 'oplstm-150h-4_1_0.028790052229093227', 'oplstm-150h-4_2_0.002770576962134859', 'oplstm-150h-4_2_4.64820226097604e-05', 'oplstm-150h-4_4_0.004673978383086751', 'oplstm-150h-5-100000', 'oplstm-150h-5-1600000', 'oplstm-150h-5-3200000', 'oplstm-150h-5-400000', 'oplstm-150h-5-800000', 'oplstm-150h-5_1_0.00023584798464763238', 'oplstm-150h-5_1_2.092886487381084e-05', 'oplstm-150h-5_2_2.8585518456486535e-05', 'oplstm-150h-6_3_0.0006538281143115779', 'oplstm-150h-6_3_0.0027719328599832087', 'oplstm-150h-8_3_0.005462569008912091', 'oplstm-150h-9_1_0.0010448688371510757', 'oplstm-150h-9_2_0.00010914286603608817', 'oplstm-150h-9_2_0.007002448809789397', 'oplstm-150h-9_3_1.3254610570097222e-05']\n",
      "No test perf file found for oplstm-150h-10_4_0.004321072194838596\n",
      "No test perf file found for oplstm-150h-11_2_0.00010893507255537653\n",
      "No test perf file found for oplstm-150h-11_3_0.00016098550271858659\n",
      "No test perf file found for oplstm-150h-13_2_9.011400868236316e-05\n",
      "No test perf file found for oplstm-150h-14_1_3.216361796021737e-05\n",
      "No test perf file found for oplstm-150h-1_4_0.001\n",
      "No test perf file found for oplstm-150h-3_3_0.00776573116016386\n",
      "No test perf file found for oplstm-150h-4_1_0.028790052229093227\n",
      "No test perf file found for oplstm-150h-4_2_0.002770576962134859\n",
      "No test perf file found for oplstm-150h-4_2_4.64820226097604e-05\n",
      "No test perf file found for oplstm-150h-4_4_0.004673978383086751\n",
      "No test perf file found for oplstm-150h-5_1_0.00023584798464763238\n",
      "No test perf file found for oplstm-150h-5_1_2.092886487381084e-05\n",
      "No test perf file found for oplstm-150h-5_2_2.8585518456486535e-05\n",
      "No test perf file found for oplstm-150h-6_3_0.0006538281143115779\n",
      "No test perf file found for oplstm-150h-6_3_0.0027719328599832087\n",
      "No test perf file found for oplstm-150h-8_3_0.005462569008912091\n",
      "No test perf file found for oplstm-150h-9_1_0.0010448688371510757\n",
      "No test perf file found for oplstm-150h-9_2_0.00010914286603608817\n",
      "No test perf file found for oplstm-150h-9_2_0.007002448809789397\n",
      "No test perf file found for oplstm-150h-9_3_1.3254610570097222e-05\n"
     ]
    }
   ],
   "source": [
    "import os\n",
    "import numpy as np\n",
    "import pandas as pd\n",
    "\n",
    "from copy import deepcopy\n",
    "\n",
    "PATH = \"./N1k5test50/\"\n",
    "\n",
    "techniques = [x for x in os.listdir(PATH) if \"oplstm-150h\" in x]\n",
    "print(techniques)\n",
    "tpaths = [PATH + x for x in techniques]\n",
    "\n",
    "RES = []\n",
    "best_perf = None\n",
    "best_technique = None\n",
    "LOSS = dict()\n",
    "for technique, tdir in zip(techniques, tpaths):\n",
    "    if technique.count('_') < 2:\n",
    "        continue\n",
    "    tfile = tdir + \"/-runs/\" \n",
    "    try:\n",
    "        tfile = tfile + [x for x in os.listdir(tfile) if \"-curves\" in x][0]\n",
    "    except:\n",
    "        print(f\"No test perf file found for {technique}\")\n",
    "        continue\n",
    "    \n",
    "    data = pd.read_csv(tfile, header=None).to_numpy().reshape(-1)\n",
    "    mean_perf, std_perf = data.min(), data.std()\n",
    "    if best_perf is None:\n",
    "        best_perf = mean_perf\n",
    "        best_technique = technique\n",
    "    elif mean_perf < best_perf:\n",
    "        best_perf = mean_perf\n",
    "        best_technique = technique\n",
    "    \n",
    "    print(technique, mean_perf)\n",
    "    \n",
    "    "
   ]
  },
  {
   "cell_type": "code",
   "execution_count": 4,
   "metadata": {},
   "outputs": [
    {
     "data": {
      "text/plain": [
       "(0.0200898631657473, 'oplstm-150h-5-800000')"
      ]
     },
     "execution_count": 4,
     "metadata": {},
     "output_type": "execute_result"
    }
   ],
   "source": [
    "best_perf, best_technique"
   ]
  },
  {
   "cell_type": "markdown",
   "metadata": {},
   "source": [
    "**best: SINE WAVE: MBS=8, T=5**\n",
    "\n",
    "python -u main.py --problem sine --model oplstm --second_order --N 1 --k 5 --k_test 50 --runs 1 --val_after 2500 --cpu --validate --meta_batch_size 8 --lr 0.000125 --model_spec oplstm-150h-best --layers 5,5,1 --hidden_size 1 --T 5 --seed 0 --elwise --learn_init_weight --lstm_inputs target_pred --hdims [150,150,150]  --gamma 0.025\n",
    "\n",
    "\n"
   ]
  },
  {
   "cell_type": "code",
   "execution_count": null,
   "metadata": {},
   "outputs": [],
   "source": []
  },
  {
   "cell_type": "code",
   "execution_count": null,
   "metadata": {},
   "outputs": [],
   "source": []
  },
  {
   "cell_type": "code",
   "execution_count": null,
   "metadata": {},
   "outputs": [],
   "source": []
  },
  {
   "cell_type": "code",
   "execution_count": null,
   "metadata": {},
   "outputs": [],
   "source": []
  },
  {
   "cell_type": "markdown",
   "metadata": {},
   "source": [
    "## Find best sequential currtarget (x_t, y_t)\n",
    "\n",
    "python -u main.py --problem sine --model simplelstm --N 1 --k 5 --k_test 50 --runs 3 --val_after 2500 --cpu --hidden_size $1 --T $2 --validate --loss_type post --meta_batch_size $4 --num_layers $5 --lr $6 --model_spec simplelstm-inputs-$1-$2-$3-$4-$5-$6 --lstm_inputs $3\n",
    "\n",
    "\n",
    "${Hs[i]} ${Ts[i]} $loss ${Mbs[i]} ${Nlayers[i]} ${Lrs[i]}\n",
    "\n",
    "#!/bin/bash\n",
    "\n",
    "Ts=(9 9 11 3 4 9 5 9 14 4 6 10 5 4 4 6 13 5 11 8 1 1)\n",
    "Lrs=(0.0010448688371510757 1.3254610570097222e-05 0.00016098550271858659 0.00776573116016386 0.004673978383086751 0.007002448809789397 0.00023584798464763238 0.00010914286603608817 3.216361796021737e-05 4.64820226097604e-05 0.0006538281143115779 0.004321072194838596 2.8585518456486535e-05 0.002770576962134859 0.028790052229093227 0.0027719328599832087 9.011400868236316e-05 2.092886487381084e-05 0.00010893507255537653 0.005462569008912091 0.001 0.001)\n",
    "Nlayers=(4 1 4 3 2 4 1 1 3 3 3 4 2 4 2 1 1 3 3 3 3 4)\n",
    "Mbs=(1 3 3 3 4 2 1 2 1 2 3 4 2 2 1 3 2 1 2 3 4 4)\n",
    "Hs=(3 1 1 8 40 20 1 3 40 8 20 40 40 1 3 1 40 3 20 20 40 40)\n",
    "Ls=(\"currtarget\")\n",
    "\n",
    "\n",
    "\n",
    "for loss in ${Ls[@]}; do\n",
    "for i in $(seq 0 21)\n",
    "do\n",
    "echo ${Hs[i]} ${Ts[i]} $loss ${Mbs[i]} ${Nlayers[i]} ${Lrs[i]}\n",
    "#sbatch sinejob.slurm ${Hs[i]} ${Ts[i]} $loss ${Mbs[i]} ${Nlayers[i]} ${Lrs[i]}\n",
    "#sleep 1\n",
    "done\n",
    "done"
   ]
  },
  {
   "cell_type": "code",
   "execution_count": 1,
   "metadata": {},
   "outputs": [
    {
     "name": "stdout",
     "output_type": "stream",
     "text": [
      "----------------------------------------\n",
      "./N1k5test50/\n",
      "simplelstm-inputs-1-11-currtarget-3-4-0.00016098550271858659 \t 3.3506651782914996 \t 0.07741568038363544\n",
      "simplelstm-inputs-1-4-currtarget-2-4-0.002770576962134859 \t 2.9772221492677926 \t 0.06861818541034692\n",
      "simplelstm-inputs-1-5-currtarget-1-1-0.00023584798464763238 \t 3.4683750176653265 \t 0.07756157653738738\n",
      "simplelstm-inputs-1-6-currtarget-3-1-0.0027719328599832087 \t 3.402181957518061 \t 0.07549369679622187\n",
      "simplelstm-inputs-1-9-currtarget-3-1-1.3254610570097222e-05 \t 4.558977661843101 \t 0.09603907898685993\n",
      "simplelstm-inputs-20-11-currtarget-2-3-0.00010893507255537653 \t 0.6251905604656786 \t 0.02349724632392014\n",
      "simplelstm-inputs-20-6-currtarget-3-3-0.0006538281143115779 \t 0.2695868224601533 \t 0.010769648867869519\n",
      "simplelstm-inputs-20-8-currtarget-3-3-0.005462569008912091 \t 0.08199711739369858 \t 0.006505786925813634\n",
      "simplelstm-inputs-20-9-currtarget-2-4-0.007002448809789397 \t 0.08659505565610012 \t 0.0066792960139513136\n",
      "simplelstm-inputs-3-4-currtarget-1-2-0.028790052229093227 \t 2.0024772881940005 \t 0.048823261501781845\n",
      "simplelstm-inputs-3-5-currtarget-1-3-2.092886487381084e-05 \t 3.440071943047146 \t 0.07969724227159425\n",
      "simplelstm-inputs-3-9-currtarget-1-4-0.0010448688371510757 \t 1.4194640217352814 \t 0.04034123248834476\n",
      "simplelstm-inputs-3-9-currtarget-2-1-0.00010914286603608817 \t 3.1593397309482096 \t 0.07301552773033881\n",
      "simplelstm-inputs-40-1-currtarget-4-3-0.001 \t 0.27454718812401796 \t 0.012104009398320348\n",
      "simplelstm-inputs-40-1-currtarget-4-4-0.001 \t 0.33332442905162074 \t 0.014247111591964012\n",
      "simplelstm-inputs-40-10-currtarget-4-4-0.004321072194838596 \t 0.06538614215709697 \t 0.004404521573252176\n",
      "simplelstm-inputs-40-13-currtarget-2-1-9.011400868236316e-05 \t 1.205642427018533 \t 0.030987642865521137\n",
      "simplelstm-inputs-40-14-currtarget-1-3-3.216361796021737e-05 \t 0.9731452120076477 \t 0.032485592121089035\n",
      "simplelstm-inputs-40-4-currtarget-4-2-0.004673978383086751 \t 0.05360906261992928 \t 0.008642246032642395\n",
      "simplelstm-inputs-40-5-currtarget-2-2-2.8585518456486535e-05 \t 2.8590287595658253 \t 0.07288613623898943\n",
      "simplelstm-inputs-8-3-currtarget-3-3-0.00776573116016386 \t 0.2639184294270041 \t 0.012174732250955111\n",
      "simplelstm-inputs-8-4-currtarget-2-3-4.64820226097604e-05 \t 3.0313661145794515 \t 0.07556681454700032\n"
     ]
    }
   ],
   "source": [
    "import os\n",
    "import numpy as np\n",
    "import pandas as pd\n",
    "import scipy.stats as st\n",
    "\n",
    "from copy import deepcopy\n",
    "\n",
    "\n",
    "for PATH in [\"./N1k5test50/\"]:\n",
    "    print('-'*40)\n",
    "    print(PATH)\n",
    "    \n",
    "\n",
    "    techniques = [x for x in os.listdir(PATH) if \"currtarget\" in x]\n",
    "    tpaths = [PATH + x for x in techniques]\n",
    "    \n",
    "    \n",
    "    rows = []\n",
    "    \n",
    "    \n",
    "    RES = []\n",
    "    LOSS = dict()\n",
    "    best_perf = float(\"inf\")\n",
    "    best_technique = None\n",
    "    best_ci = None\n",
    "    for technique, tdir in zip(techniques, tpaths):\n",
    "        tfile = tdir + \"/-runs/\" \n",
    "        try:\n",
    "            tfile = tfile + [x for x in os.listdir(tfile) if \"alltestperf\" in x][0]\n",
    "        except:\n",
    "            print(f\"No test perf file found for {technique}\")\n",
    "            continue\n",
    "\n",
    "        data = pd.read_csv(tfile, header=None).to_numpy().reshape(-1)\n",
    "        mean_perf, std_perf = data.mean(), data.std()\n",
    "        a = data\n",
    "        lb, ub = st.t.interval(0.95, len(a)-1, loc=np.mean(a), scale=st.sem(a))\n",
    "        ci = a.mean() - lb\n",
    "        \n",
    "        if mean_perf < best_perf:\n",
    "            best_perf = mean_perf\n",
    "            best_ci = ci\n",
    "            best_technique = technique\n",
    "\n",
    "        print(technique, '\\t', mean_perf, '\\t', ci)\n",
    "    "
   ]
  },
  {
   "cell_type": "code",
   "execution_count": 2,
   "metadata": {},
   "outputs": [
    {
     "data": {
      "text/plain": [
       "('simplelstm-inputs-40-4-currtarget-4-2-0.004673978383086751',\n",
       " 0.05360906261992928,\n",
       " 0.008642246032642395)"
      ]
     },
     "execution_count": 2,
     "metadata": {},
     "output_type": "execute_result"
    }
   ],
   "source": [
    "best_technique, best_perf, best_ci"
   ]
  },
  {
   "cell_type": "code",
   "execution_count": null,
   "metadata": {},
   "outputs": [],
   "source": []
  },
  {
   "cell_type": "markdown",
   "metadata": {},
   "source": [
    "# Compare Batch & Sequence\n",
    "\n",
    "**best config**\n",
    "\n",
    "- hidden size:40\n",
    "- T: 4\n",
    "- input type: currtarget\n",
    "- MBS: 4\n",
    "- num_layers:2\n",
    "- lr: 0.004673978383086751\n",
    "\n",
    "**k:** 5,10,20,30,40,50\n",
    "\n",
    "\n",
    "**Sequential:** python -u main.py --problem sine --model simplelstm --N 1 --k $1 --k_test 50 --runs 3 --val_after 2500 --cpu --hidden_size 40 --T 4 --validate --loss_type post --meta_batch_size 4 --num_layers 2 --lr 0.004673978383086751 --model_spec bestsimplelstm-sequential --lstm_inputs currtarget \n",
    "\n",
    "**Batch:** python -u main.py --problem sine --model simplelstm --N 1 --k $1 --k_test 50 --runs 3 --val_after 2500 --cpu --hidden_size 40 --T 4 --validate --loss_type post --meta_batch_size 4 --num_layers 2 --lr 0.004673978383086751 --model_spec bestsimplelstm-batch\n",
    "\n"
   ]
  },
  {
   "cell_type": "code",
   "execution_count": 13,
   "metadata": {},
   "outputs": [
    {
     "name": "stdout",
     "output_type": "stream",
     "text": [
      "----------------------------------------\n",
      "./N1k5test50/\n",
      "[0.0297629  0.04956035 0.04248492]\n",
      "0.024920965647746134\n",
      "5 \t bestsimplelstm-batch \t 0.0406027239124135 \t 0.002327291732055946\n",
      "[0.05278656 0.05520005 0.05284058]\n",
      "5 \t bestsimplelstm-sequential \t 0.05360906261992928 \t 0.008642246032642395\n",
      "----------------------------------------\n",
      "./N1k10test50/\n",
      "[0.01632485 0.01402588 0.01207468]\n",
      "0.005284887744782644\n",
      "10 \t bestsimplelstm-batch \t 0.014141800765898807 \t 0.0006994603523455441\n",
      "[0.01489168 0.01558726 0.02269871]\n",
      "10 \t bestsimplelstm-sequential \t 0.017725885150755204 \t 0.001000698511657315\n",
      "----------------------------------------\n",
      "./N1k20test50/\n",
      "[0.00642527 0.00684974 0.00624599]\n",
      "0.0007702374458421245\n",
      "20 \t bestsimplelstm-batch \t 0.0065070019024908825 \t 0.00020963034232713423\n",
      "[0.00774173 0.00877381 0.00750603]\n",
      "20 \t bestsimplelstm-sequential \t 0.008007191189436174 \t 0.0002509127877157562\n",
      "----------------------------------------\n",
      "./N1k30test50/\n",
      "[0.00663234 0.00600651 0.00653388]\n",
      "0.0008359635198624529\n",
      "30 \t bestsimplelstm-batch \t 0.006390913714378207 \t 0.00015958900727159036\n",
      "[0.00624946 0.00644161 0.00417525]\n",
      "30 \t bestsimplelstm-sequential \t 0.005622105510040709 \t 0.0001524132279547459\n",
      "----------------------------------------\n",
      "./N1k40test50/\n",
      "[0.00382987 0.0041471  0.00494074]\n",
      "0.0014214487364239805\n",
      "40 \t bestsimplelstm-batch \t 0.0043059049738342564 \t 0.00012306559121329913\n",
      "[0.0052514  0.00642625 0.00540911]\n",
      "40 \t bestsimplelstm-sequential \t 0.005695589360690014 \t 0.00015429635599080622\n",
      "----------------------------------------\n",
      "./N1k50test50/\n",
      "[0.00393842 0.00302292 0.00430207]\n",
      "0.0016373347013863655\n",
      "50 \t bestsimplelstm-batch \t 0.0037544710046725225 \t 0.0001229113315070608\n",
      "[0.00821191 0.00474197 0.01138121]\n",
      "50 \t bestsimplelstm-sequential \t 0.008111694957409732 \t 0.0002674667559589457\n"
     ]
    }
   ],
   "source": [
    "import os\n",
    "import numpy as np\n",
    "import pandas as pd\n",
    "import scipy.stats as st\n",
    "\n",
    "from copy import deepcopy\n",
    "\n",
    "\n",
    "\n",
    "data_batch = []\n",
    "data_seq = []\n",
    "perfs_batch = []\n",
    "perfs_seq = []\n",
    "cis_batch = []\n",
    "cis_seq = []\n",
    "cis_run_batch = []\n",
    "cis_run_seq = []\n",
    "\n",
    "ks = [5,10,20,30,40,50]\n",
    "for k in ks:\n",
    "    PATH =  f\"./N1k{k}test50/\"\n",
    "    print('-'*40)\n",
    "    print(PATH)\n",
    "    \n",
    "\n",
    "    techniques = [x for x in os.listdir(PATH) if \"-sequential\" in x or \"-batch\" in x]\n",
    "    tpaths = [PATH + x for x in techniques]\n",
    "    \n",
    "    \n",
    "    rows = []\n",
    "    \n",
    "    \n",
    "    RES = []\n",
    "    LOSS = dict()\n",
    "    best_perf = float(\"inf\")\n",
    "    best_technique = None\n",
    "    best_ci = None\n",
    "    for technique, tdir in zip(techniques, tpaths):\n",
    "        tfile = tdir + \"/-runs/\" \n",
    "        try:\n",
    "            tefile = [tfile +x for x in os.listdir(tfile) if \"test_scores\" in x]\n",
    "            tfile = [tfile +x for x in os.listdir(tfile) if \"alltestperf\" in x]\n",
    "        except Exception as e:\n",
    "            print(f\"No test perf file found for {technique}\")\n",
    "            print(e)\n",
    "            continue\n",
    "\n",
    "        data = np.array([pd.read_csv(t, header=None).to_numpy().reshape(-1) for t in tfile]).reshape(-1)\n",
    "        dfs = [pd.read_csv(t) for t in tefile][0][\"mean_loss\"]\n",
    "        \n",
    "        \n",
    "        mean_perf, std_perf = data.mean(), data.std()\n",
    "        a = data\n",
    "        \n",
    "        means = np.array(dfs)\n",
    "        print(means)\n",
    "        lbr, ubr = st.t.interval(0.95, len(means)-1, loc=np.mean(means), scale=st.sem(means))\n",
    "        cir = means.mean() - lbr\n",
    "        \n",
    "        \n",
    "        lb, ub = st.t.interval(0.95, len(a)-1, loc=np.mean(a), scale=st.sem(a))\n",
    "        ci = a.mean() - lb\n",
    "        \n",
    "        if \"-batch\" in technique:\n",
    "            ls = perfs_batch\n",
    "            cis = cis_batch\n",
    "            data_batch.append(data)\n",
    "            cis_run_batch.append(cir)\n",
    "            print(cir)\n",
    "        else:\n",
    "            ls = perfs_seq\n",
    "            cis = cis_seq\n",
    "            data_seq.append(data)\n",
    "            cis_run_seq.append(cir)\n",
    "        \n",
    "        ls.append(mean_perf)\n",
    "        cis.append(ci)\n",
    "\n",
    "        print(k, '\\t', technique, '\\t', mean_perf, '\\t', ci)\n",
    "    "
   ]
  },
  {
   "cell_type": "code",
   "execution_count": 4,
   "metadata": {},
   "outputs": [
    {
     "data": {
      "image/png": "[encoded data removed]",
      "text/plain": [
       "<Figure size 864x576 with 1 Axes>"
      ]
     },
     "metadata": {
      "needs_background": "light"
     },
     "output_type": "display_data"
    }
   ],
   "source": [
    "import matplotlib.pylab as plt\n",
    "import seaborn as sns\n",
    "from matplotlib import rc\n",
    "\n",
    "rc('font', **{'family': 'serif', 'serif': ['Times New Roman']})\n",
    "rc('text', usetex=False)\n",
    "\n",
    "\n",
    "perfs_batch, perfs_seq = np.array(perfs_batch), np.array(perfs_seq)\n",
    "\n",
    "\n",
    "plt.figure(figsize=(12,8))\n",
    "plt.xlabel(\"Number of support examples per task\", fontsize=22)\n",
    "plt.ylabel(\"MSE Loss\", fontsize=22)\n",
    "plt.plot(ks, perfs_batch, color='blue')\n",
    "plt.plot(ks, perfs_seq, color='red')\n",
    "plt.fill_between(ks, perfs_batch - cis_batch, perfs_batch + cis_batch, alpha=0.2, color='blue')\n",
    "plt.fill_between(ks, perfs_seq - cis_seq, perfs_seq + cis_seq, alpha=0.2, color='red')\n",
    "plt.scatter(ks, perfs_batch, color='blue', marker=\"s\", label=\"Batch (ours)\", s=80)\n",
    "plt.scatter(ks, perfs_seq, color='red', marker=\"D\", label=\"Sequential\", s=80)\n",
    "plt.xticks(fontsize=18)\n",
    "plt.yticks(fontsize=18)\n",
    "plt.legend(fontsize=20)\n",
    "plt.savefig(\"batch-vs-seq.pdf\")\n",
    "#plt.yscale('log')\n",
    "plt.show()"
   ]
  },
  {
   "cell_type": "code",
   "execution_count": 16,
   "metadata": {},
   "outputs": [
    {
     "data": {
      "image/png": "[encoded data removed]",
      "text/plain": [
       "<Figure size 864x576 with 1 Axes>"
      ]
     },
     "metadata": {
      "needs_background": "light"
     },
     "output_type": "display_data"
    }
   ],
   "source": [
    "import matplotlib.pylab as plt\n",
    "import seaborn as sns\n",
    "from matplotlib import rc\n",
    "\n",
    "rc('font', **{'family': 'serif', 'serif': ['Times New Roman']})\n",
    "rc('text', usetex=False)\n",
    "\n",
    "\n",
    "perfs_batch, perfs_seq = np.array(perfs_batch), np.array(perfs_seq)\n",
    "\n",
    "\n",
    "plt.figure(figsize=(12,8))\n",
    "plt.xlabel(\"Number of support examples per task\", fontsize=22)\n",
    "plt.ylabel(\"MSE Loss\", fontsize=22)\n",
    "plt.plot(ks, perfs_batch, color='blue')\n",
    "plt.plot(ks, perfs_seq, color='red')\n",
    "plt.fill_between(ks, perfs_batch - cis_run_batch, perfs_batch + cis_run_batch, alpha=0.2, color='blue')\n",
    "plt.fill_between(ks, perfs_seq - cis_run_seq, perfs_seq + cis_run_seq, alpha=0.2, color='red')\n",
    "plt.scatter(ks, perfs_batch, color='blue', marker=\"s\", label=\"Batch (ours)\", s=80)\n",
    "plt.scatter(ks, perfs_seq, color='red', marker=\"D\", label=\"Sequential\", s=80)\n",
    "plt.xticks(fontsize=18)\n",
    "plt.yticks(fontsize=18)\n",
    "plt.legend(fontsize=20)\n",
    "plt.savefig(\"batch-vs-seq-confoverruns.pdf\")\n",
    "#plt.yscale('log')\n",
    "plt.show()"
   ]
  },
  {
   "cell_type": "code",
   "execution_count": 8,
   "metadata": {},
   "outputs": [
    {
     "data": {
      "text/plain": [
       "array([0.04060272, 0.0141418 , 0.006507  , 0.00639091, 0.0043059 ,\n",
       "       0.00375447])"
      ]
     },
     "execution_count": 8,
     "metadata": {},
     "output_type": "execute_result"
    }
   ],
   "source": [
    "perfs_batch"
   ]
  },
  {
   "cell_type": "markdown",
   "metadata": {},
   "source": [
    "**not all data in yet for k=30**"
   ]
  },
  {
   "cell_type": "code",
   "execution_count": 20,
   "metadata": {},
   "outputs": [],
   "source": [
    "improvements = [100*(data_batch[i] - data_seq[i])/data_seq[i] for i in range(len(data_seq))]\n",
    "imprv_cis = [improvements[i].mean() - st.t.interval(0.95, len(improvements[i])-1, loc=np.mean(improvements[i]), scale=st.sem(improvements[i]))[0] for i in range(len(data_seq))]\n"
   ]
  },
  {
   "cell_type": "code",
   "execution_count": 21,
   "metadata": {},
   "outputs": [
    {
     "data": {
      "text/plain": [
       "[6.533596598374949,\n",
       " 6.132862874446417,\n",
       " 4.288163943916363,\n",
       " 5.973632557916574,\n",
       " 4.847413709048915,\n",
       " 2.78446963582393]"
      ]
     },
     "execution_count": 21,
     "metadata": {},
     "output_type": "execute_result"
    }
   ],
   "source": [
    "imprv_cis"
   ]
  },
  {
   "cell_type": "code",
   "execution_count": 28,
   "metadata": {},
   "outputs": [
    {
     "data": {
      "text/plain": [
       "[]"
      ]
     },
     "execution_count": 28,
     "metadata": {},
     "output_type": "execute_result"
    },
    {
     "data": {
      "image/png": "[encoded data removed]",
      "text/plain": [
       "<Figure size 864x576 with 1 Axes>"
      ]
     },
     "metadata": {
      "needs_background": "light"
     },
     "output_type": "display_data"
    }
   ],
   "source": [
    "perfs_seq = np.array(perfs_seq)\n",
    "perfs_batch = np.array(perfs_batch)\n",
    "plt.figure(figsize=(12,8))\n",
    "plt.xlabel(\"Number of support examples per task\", fontsize=22)\n",
    "plt.ylabel(\"MSE improvement (%)\", fontsize=22)\n",
    "plt.plot(ks, 100*(perfs_seq - perfs_batch)/perfs_seq, color='blue')\n",
    "plt.fill_between(ks, 100*(perfs_seq - perfs_batch)/perfs_seq - np.array(imprv_cis), 100*(perfs_seq - perfs_batch)/perfs_seq + np.array(imprv_cis), color='blue', alpha=0.2)\n",
    "plt.scatter(ks, 100*(perfs_seq - perfs_batch)/perfs_seq, color='blue', marker=\"s\")\n",
    "plt.xticks(fontsize=18)\n",
    "plt.yticks(fontsize=18)\n",
    "#plt.legend(fontsize=20)\n",
    "plt.axhline(0, linestyle='--', color='black')\n",
    "plt.savefig(\"batch-vs-seq-improvmeent.pdf\")\n",
    "\n",
    "plt.plot()\n"
   ]
  },
  {
   "cell_type": "markdown",
   "metadata": {},
   "source": [
    "### MAML + OP-LSTM"
   ]
  },
  {
   "cell_type": "markdown",
   "metadata": {},
   "source": [
    "**MAML:**\n",
    "\n",
    "python -u main.py --problem sine --model maml --second_order --N 1 --k $1 --k_test 50 --runs 3 --val_after 2500 --cpu --T 14 --validate --meta_batch_size 2 --lr 0.0032937018686863585 --base_lr 0.003769030557807799 --model_spec somaml-best-hsize91 --hdims [91,91,91]\n",
    "\n",
    "**best OPLSTM**\n",
    "\n",
    "python -u main.py --problem sine --model oplstm --second_order --N 1 --k $1 --k_test 50 --runs 3 --val_after 2500 --cpu --validate --meta_batch_size 1 --lr 0.0010448688371510757 --model_spec oplstm-70k-best --layers 5,5,1 --hidden_size 1 --T 9 --elwise --learn_init_weight --lstm_inputs target_pred --hdims [91,91,91]  --gamma 0.025\n",
    "\n",
    "oplstm-70k-9_1_0.0010448688371510757\n"
   ]
  },
  {
   "cell_type": "code",
   "execution_count": 7,
   "metadata": {},
   "outputs": [
    {
     "name": "stdout",
     "output_type": "stream",
     "text": [
      "k= 5\n",
      "oplstm-70k-best 0.10540017640795361 0.009046934041056318\n",
      "somaml-best-hsize91 0.17653166841748558 0.009424709234501755\n",
      "----------------------------------------\n",
      "k= 10\n",
      "oplstm-70k-best 0.007567328537161858 0.0007291992200608808\n",
      "somaml-best-hsize91 0.032948145922263646 0.0029543869715054037\n",
      "----------------------------------------\n",
      "k= 20\n",
      "oplstm-70k-best 0.002690515086822366 0.00015408945801454995\n",
      "somaml-best-hsize91 0.004867439069036917 0.0005119710979965796\n",
      "----------------------------------------\n"
     ]
    }
   ],
   "source": [
    "import os\n",
    "import numpy as np\n",
    "import pandas as pd\n",
    "import scipy.stats as st\n",
    "\n",
    "from copy import deepcopy\n",
    "\n",
    "ks=[5,10,20]\n",
    "for k in ks:\n",
    "    PATH = f\"./N1k{k}test50/\"\n",
    "    print('k=', k)\n",
    "    techniques = [x for x in os.listdir(PATH) if x==\"oplstm-70k-best\" or \"somaml-best-hsize91\"==x]\n",
    "    tpaths = [PATH + x for x in techniques]\n",
    "\n",
    "    RES = []\n",
    "    LOSS = dict()\n",
    "    for technique, tdir in zip(techniques, tpaths):\n",
    "        tfile = tdir + \"/-runs/\" \n",
    "        try:\n",
    "            tfile = tfile + [x for x in os.listdir(tfile) if \"alltestperf\" in x][0]\n",
    "        except:\n",
    "            print(f\"No test perf file found for {technique}\")\n",
    "            continue\n",
    "\n",
    "        data = pd.read_csv(tfile, header=None).to_numpy().reshape(-1)\n",
    "        mean_perf, std_perf = data.mean(), data.std()\n",
    "        a = data\n",
    "        lb, ub = st.t.interval(0.95, len(a)-1, loc=np.mean(a), scale=st.sem(a))\n",
    "        ci = a.mean() - lb\n",
    "\n",
    "        print(technique, mean_perf, ci)\n",
    "    print('-'*40)\n",
    "    "
   ]
  }
 ],
 "metadata": {
  "kernelspec": {
   "display_name": "Python 3",
   "language": "python",
   "name": "python3"
  },
  "language_info": {
   "codemirror_mode": {
    "name": "ipython",
    "version": 3
   },
   "file_extension": ".py",
   "mimetype": "text/x-python",
   "name": "python",
   "nbconvert_exporter": "python",
   "pygments_lexer": "ipython3",
   "version": "3.7.6"
  }
 },
 "nbformat": 4,
 "nbformat_minor": 4
}
